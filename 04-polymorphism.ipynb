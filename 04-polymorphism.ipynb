{
 "cells": [
  {
   "cell_type": "markdown",
   "id": "9753a8a2",
   "metadata": {},
   "source": [
    "# Programação Orientada a Objetos (POO) em Python \n",
    "\n",
    "[Aprenda Python com Jupyter](https://github.com/jeanto/python_programming_course_notebook) by [Jean Nunes](https://jeanto.github.io/jeannunes)   \n",
    "Code license: [GNU-GPL v3](https://www.gnu.org/licenses/gpl-3.0.en.html)\n",
    "\n",
    "---"
   ]
  },
  {
   "cell_type": "markdown",
   "id": "43277ffb",
   "metadata": {},
   "source": [
    "### Polimorfismo em Python\n",
    "\n",
    "O **polimorfismo** é um dos pilares da Programação Orientada a Objetos (POO). Ele permite que diferentes classes compartilhem métodos com o mesmo nome, mas com comportamentos distintos. Em outras palavras, o polimorfismo permite que um mesmo método ou operação funcione de maneira diferente dependendo do objeto que o invoca.\n",
    "\n",
    "Em Python, o polimorfismo é implementado de forma natural, já que a linguagem é dinamicamente tipada. Isso significa que você pode usar o mesmo nome de método em diferentes classes, e o comportamento será determinado pela classe do objeto que está chamando o método.\n",
    "\n",
    "---\n",
    "\n",
    "### Exemplos de Polimorfismo\n",
    "\n",
    "#### 1. **Polimorfismo com Métodos em Diferentes Classes**\n",
    "\n",
    "Aqui está um exemplo básico de polimorfismo com métodos:"
   ]
  },
  {
   "cell_type": "code",
   "execution_count": 18,
   "id": "6b5ba1da",
   "metadata": {},
   "outputs": [],
   "source": [
    "class MachadoDeAssis:\n",
    "    def apresentar(self):\n",
    "        return \"Machado de Assis foi um dos maiores escritores brasileiros, \\n \" \\\n",
    "        \"conhecido por seu estilo inovador e crítica social. \\n \" \\\n",
    "        \"Conheça as suas principais obras abaixo:\"\n",
    "\n",
    "class DomCasmurro(MachadoDeAssis):\n",
    "    def sinopse(self):\n",
    "        return \"- Dom Casmurro narra a história de Bentinho e Capitu, \\n \" \\\n",
    "        \"explorando temas como ciúme e dúvida.\"\n",
    "\n",
    "class MemoriasPostumas(MachadoDeAssis):\n",
    "    def sinopse(self):\n",
    "        return \"- Memórias Póstumas de Brás Cubas é uma narrativa inovadora \\n \" \\\n",
    "        \"contada por um defunto-autor, cheia de ironia e crítica social.\"\n",
    "\n",
    "class QuincasBorba(MachadoDeAssis):\n",
    "    def sinopse(self):\n",
    "        return \"- Quincas Borba acompanha a vida de Rubião, herdeiro de um \\n \" \\\n",
    "        \"filósofo excêntrico, e sua decadência moral e financeira.\"\n",
    "\n",
    "class EsaueJaco(MachadoDeAssis):\n",
    "    def sinopse(self):\n",
    "        return \"- Esaú e Jacó conta a história de dois irmãos gêmeos com personalidades \\n \" \\\n",
    "        \"opostas e suas disputas ao longo da vida.\"\n",
    "\n",
    "class Helena(MachadoDeAssis):\n",
    "    def sinopse(self):\n",
    "        return \"- Helena narra a história de uma jovem humilde que descobre ser \\n\" \\\n",
    "        \"filha de um homem rico, enfrentando desafios sociais e amorosos.\"          "
   ]
  },
  {
   "cell_type": "code",
   "execution_count": 19,
   "id": "e1f33a24",
   "metadata": {},
   "outputs": [],
   "source": [
    "# Criando instâncias\n",
    "dom_casmurro = DomCasmurro()\n",
    "memorias_postumas = MemoriasPostumas()\n",
    "quincas_borba = QuincasBorba()\n",
    "esau_e_jaco = EsaueJaco()\n",
    "helena = Helena()"
   ]
  },
  {
   "cell_type": "code",
   "execution_count": 20,
   "id": "4909f9bb",
   "metadata": {},
   "outputs": [
    {
     "name": "stdout",
     "output_type": "stream",
     "text": [
      "------------------------------------------------------------------------------------------------------------------------------------------------------------\n",
      "Machado de Assis foi um dos maiores escritores brasileiros, \n",
      " conhecido por seu estilo inovador e crítica social. \n",
      " Conheça as suas principais obras abaixo:\n",
      "------------------------------------------------------------------------------------------------------------------------------------------------------------\n"
     ]
    }
   ],
   "source": [
    "# Apresentando informações sobre o autor\n",
    "\n",
    "autor = memorias_postumas.apresentar()\n",
    "print(f\"{'-'*len(autor)}\\n{autor}\\n{'-'*len(autor)}\")        "
   ]
  },
  {
   "cell_type": "code",
   "execution_count": 21,
   "id": "ca7b89b9",
   "metadata": {},
   "outputs": [],
   "source": [
    "# Função que demonstra polimorfismo\n",
    "def apresentar_livro(livro):\n",
    "    sinopse = livro.sinopse()\n",
    "    print(f\"{sinopse}\\n\")     "
   ]
  },
  {
   "cell_type": "code",
   "execution_count": null,
   "id": "9128eccd",
   "metadata": {},
   "outputs": [],
   "source": [
    "# Chamando a função com diferentes objetos\n",
    "apresentar_livro(dom_casmurro)       \n",
    "apresentar_livro(memorias_postumas)  \n",
    "apresentar_livro(quincas_borba)      \n",
    "apresentar_livro(esau_e_jaco)        \n",
    "apresentar_livro(helena)   \n",
    "\n",
    "print(f\"{'-'*len(autor)}\")\n",
    "print(\"Obrigado por conhecer mais sobre Machado de Assis e suas obras!\\n\")"
   ]
  },
  {
   "cell_type": "code",
   "execution_count": 7,
   "id": "074a8b01",
   "metadata": {},
   "outputs": [
    {
     "name": "stdout",
     "output_type": "stream",
     "text": [
      "- Memórias Póstumas de Brás Cubas é uma narrativa inovadora \n",
      " contada por um defunto-autor, cheia de ironia e crítica social.\n"
     ]
    }
   ],
   "source": [
    "print(memorias_postumas.sinopse())"
   ]
  },
  {
   "cell_type": "markdown",
   "id": "c9d45528",
   "metadata": {
    "vscode": {
     "languageId": "plaintext"
    }
   },
   "source": [
    "No exemplo acima, a função `apresentar_livro` aceita qualquer objeto que tenha o método `sinopse`. O comportamento do método depende da classe do objeto passado como argumento.\n",
    "\n",
    "---"
   ]
  },
  {
   "cell_type": "markdown",
   "id": "51e7d4ab",
   "metadata": {},
   "source": [
    "#### 2. **Polimorfismo com Herança** \n",
    "\n",
    "Exemplo de Polimorfismo com as Classes `Pessoa` e `Doador`\n",
    "\n",
    "A classe `Doador` herda da classe `Pessoa` e sobrescreve o método __str__ para incluir informações adicionais sobre o tipo sanguíneo. Isso é um exemplo de polimorfismo, pois o método __str__ tem comportamentos diferentes dependendo da classe do objeto."
   ]
  },
  {
   "cell_type": "code",
   "execution_count": 24,
   "id": "a6971ec3",
   "metadata": {},
   "outputs": [],
   "source": [
    "class Pessoa:\n",
    "    def __init__(self, nome, idade, id=None):\n",
    "        self._nome = nome\n",
    "        self._idade = idade\n",
    "        self._id = id\n",
    "\n",
    "    def __str__(self):\n",
    "        return (\n",
    "            f\"+{'-'*30}+{'-'*30}+\\n\"\n",
    "            f\"| {'Id:'.ljust(28)} | {str(self._id).ljust(28)} |\\n\"\n",
    "            f\"| {'Nome:'.ljust(28)} | {self._nome.ljust(28)} |\\n\"\n",
    "            f\"| {'Idade:'.ljust(28)} | {str(self._idade).ljust(28)} |\\n\"\n",
    "            f\"+{'-'*30}+{'-'*30}+\"\n",
    "        )"
   ]
  },
  {
   "cell_type": "markdown",
   "id": "a12f4e3e",
   "metadata": {},
   "source": [
    "#### Classe `Doador`"
   ]
  },
  {
   "cell_type": "code",
   "execution_count": null,
   "id": "0d8b73c8",
   "metadata": {},
   "outputs": [],
   "source": [
    "class Doador(Pessoa):\n",
    "\n",
    "    contador_doadores = 0   # Atributo de classe\n",
    "    doadores = {}           # Dicionário para armazenar doadores\n",
    "\n",
    "    def __init__(self, nome, idade, tipo_sanguineo):\n",
    "        Doador.contador_doadores += 1 # Incrementa o contador de pessoas\n",
    "        super().__init__(nome, idade, id=Doador.contador_doadores)  # Chama o construtor da superclasse\n",
    "        self._tipo_sanguineo = tipo_sanguineo\n",
    "\n",
    "    def __str__(self):\n",
    "        info = super().__str__() + \"\\n\"\n",
    "        if self._tipo_sanguineo:\n",
    "            info += f\"| {str('Tipo Sanguíneo:').ljust(28)} | {self._tipo_sanguineo.ljust(28)}\\n\"\n",
    "            info += f\"+{'-'*30}+{'-'*30}+\"\n",
    "        return info\n",
    "\n",
    "    @classmethod\n",
    "    def cadastrar(cls, nome, idade, tipo_sanguineo):\n",
    "        \"\"\"\n",
    "        Método de classe para criar e retornar um objeto Doador com os dados fornecidos.\n",
    "\n",
    "        Args:\n",
    "            nome (str): O nome do doador.\n",
    "            idade (any): A idade do doador. Será convertida para inteiro.\n",
    "            tipo_sanguineo (str): O tipo sanguíneo do doador.\n",
    "\n",
    "        Returns:\n",
    "            Doador: Um objeto da classe Doador com os atributos definidos.\n",
    "        \"\"\"\n",
    "\n",
    "        ## Validações de tipo e de valor ##\n",
    "\n",
    "\n",
    "\n",
    "        ## Cadastra o doador ##\n",
    "        doador = cls(nome, idade, tipo_sanguineo)\n",
    "\n",
    "        # Salva doador em um dicionário\n",
    "        cls.doadores[doador._id] = {}\n",
    "        cls.doadores[doador._id][\"dados\"] = doador \n",
    "\n",
    "        return doador\n",
    "    \n",
    "    @classmethod\n",
    "    def listar(cls):\n",
    "        '''\n",
    "        Método de classe para listar todos os doadores cadastrados.\n",
    "\n",
    "        Args:\n",
    "            cls: A classe Doador.\n",
    "\n",
    "        Returns:\n",
    "            None: Este método não retorna nada, apenas imprime os dados dos doadores.\n",
    "\n",
    "        '''\n",
    "\n",
    "        if cls.doadores:\n",
    "            for _, id in cls.doadores.items():\n",
    "                for _, dados in id.items():\n",
    "                    print(dados) # chamando o método __str__ da classe Doador\n",
    "        else:\n",
    "            print(\"Nenhum doador cadastrado.\")"
   ]
  },
  {
   "cell_type": "code",
   "execution_count": null,
   "id": "e6b49bc9",
   "metadata": {},
   "outputs": [],
   "source": [
    "#### NAO USAMOS MAIS DESSA FORMA!!!!!! TÁ LIGADO?\n",
    "doador = Doador(\"João\", 20, \"O+\")"
   ]
  },
  {
   "cell_type": "code",
   "execution_count": 26,
   "id": "5d503715",
   "metadata": {},
   "outputs": [
    {
     "data": {
      "text/plain": [
       "<__main__.Doador at 0x7aba2fa1a7b0>"
      ]
     },
     "execution_count": 26,
     "metadata": {},
     "output_type": "execute_result"
    }
   ],
   "source": [
    "# Criando instâncias normais\n",
    "Doador.cadastrar(\"João\", 20, \"O+\")\n",
    "Doador.cadastrar(\"Maria\", 25, \"A-\")\n",
    "Doador.cadastrar(\"José\", 30, \"B+\")"
   ]
  },
  {
   "cell_type": "code",
   "execution_count": 27,
   "id": "49e72b84",
   "metadata": {},
   "outputs": [
    {
     "name": "stdout",
     "output_type": "stream",
     "text": [
      "Informações dos Doadores:\n",
      "+------------------------------+------------------------------+\n",
      "| Id:                          | 1                            |\n",
      "| Nome:                        | João                         |\n",
      "| Idade:                       | 20                           |\n",
      "+------------------------------+------------------------------+\n",
      "| Tipo Sanguíneo:              | O+                          \n",
      "+------------------------------+------------------------------+\n",
      "+------------------------------+------------------------------+\n",
      "| Id:                          | 2                            |\n",
      "| Nome:                        | Maria                        |\n",
      "| Idade:                       | 25                           |\n",
      "+------------------------------+------------------------------+\n",
      "| Tipo Sanguíneo:              | A-                          \n",
      "+------------------------------+------------------------------+\n",
      "+------------------------------+------------------------------+\n",
      "| Id:                          | 3                            |\n",
      "| Nome:                        | José                         |\n",
      "| Idade:                       | 30                           |\n",
      "+------------------------------+------------------------------+\n",
      "| Tipo Sanguíneo:              | B+                          \n",
      "+------------------------------+------------------------------+\n"
     ]
    }
   ],
   "source": [
    "# Chamando o método __str__ em objetos de classes diferentes\n",
    "print(\"Informações dos Doadores:\")\n",
    "Doador.listar()"
   ]
  },
  {
   "cell_type": "markdown",
   "id": "11b0f4ea",
   "metadata": {},
   "source": [
    "#### Classe `Receptor`"
   ]
  },
  {
   "cell_type": "code",
   "execution_count": 28,
   "id": "f9957009",
   "metadata": {},
   "outputs": [],
   "source": [
    "class Receptor(Pessoa):\n",
    "\n",
    "    contador_receptores = 0     # Atributo de classe\n",
    "    receptores = {}             # Dicionário para armazenar os receptores cadastrados\n",
    "\n",
    "    def __init__(self, nome, idade, contato_emergencia):\n",
    "        Receptor.contador_receptores += 1\n",
    "        super().__init__(nome, idade, id=Receptor.contador_receptores)  # Chama o construtor da superclasse\n",
    "        self._contato_emergencia = contato_emergencia\n",
    "\n",
    "    def __str__(self):\n",
    "        info = super().__str__() + \"\\n\"\n",
    "        if self._contato_emergencia:\n",
    "            info += f\"| {str('Contato de Emergência:').ljust(28)} | {self._contato_emergencia.ljust(28)}\\n\"\n",
    "            info += f\"+{'-'*30}+{'-'*30}+\"\n",
    "            \n",
    "        return info\n",
    "    \n",
    "    @classmethod\n",
    "    def cadastrar(cls, nome, idade, contato_emergencia):\n",
    "        \"\"\"\n",
    "        Método de classe para criar e retornar um objeto Receptor com os dados fornecidos.\n",
    "\n",
    "        Args:\n",
    "            nome (str): O nome do receptor.\n",
    "            idade (any): A idade do receptor. Será convertida para inteiro.\n",
    "            contato de emergência (str): O contato de emergência do receptor.\n",
    "\n",
    "        Returns:\n",
    "            Receptor: Um objeto da classe Receptor com os atributos definidos.\n",
    "        \"\"\"\n",
    "\n",
    "        ## Validações de tipo e de valor ##\n",
    "\n",
    "\n",
    "\n",
    "        ## Cadastra o doador ##\n",
    "        receptor = cls(nome, idade, contato_emergencia)\n",
    "\n",
    "        # Salva doador em um dicionário\n",
    "        cls.receptores[receptor._id] = {}\n",
    "        cls.receptores[receptor._id][\"dados\"] = receptor\n",
    "\n",
    "        return receptor\n",
    "    \n",
    "    @classmethod\n",
    "    def listar(cls): \n",
    "        '''\n",
    "        Método de classe para listar todos os receptores cadastrados.\n",
    "\n",
    "        Args:\n",
    "            cls: A classe Receptor.\n",
    "\n",
    "        Returns:\n",
    "            None: Este método não retorna nada, apenas imprime os dados dos receptores.\n",
    "\n",
    "        '''\n",
    "\n",
    "        if cls.receptores:\n",
    "            for _, id in cls.receptores.items():\n",
    "                for _, dados in id.items():\n",
    "                    print(dados) # chamando o método __str__ da classe Receptor\n",
    "        else:\n",
    "            print(\"Nenhum receptor cadastrado.\")"
   ]
  },
  {
   "cell_type": "code",
   "execution_count": 29,
   "id": "eb8d99a3",
   "metadata": {},
   "outputs": [
    {
     "data": {
      "text/plain": [
       "<__main__.Receptor at 0x7aba2c07d4f0>"
      ]
     },
     "execution_count": 29,
     "metadata": {},
     "output_type": "execute_result"
    }
   ],
   "source": [
    "# Criando instâncias normais\n",
    "Receptor.cadastrar(\"Luiza\", 60, \"61 943345345\")\n",
    "Receptor.cadastrar(\"Roberto\", 75, \"61 453453456\")\n",
    "Receptor.cadastrar(\"Ana\", 50, \"63 987654321\")"
   ]
  },
  {
   "cell_type": "code",
   "execution_count": 30,
   "id": "16b592dd",
   "metadata": {},
   "outputs": [
    {
     "name": "stdout",
     "output_type": "stream",
     "text": [
      "Informações dos Receptores:\n",
      "+------------------------------+------------------------------+\n",
      "| Id:                          | 1                            |\n",
      "| Nome:                        | Luiza                        |\n",
      "| Idade:                       | 60                           |\n",
      "+------------------------------+------------------------------+\n",
      "| Contato de Emergência:       | 61 943345345                \n",
      "+------------------------------+------------------------------+\n",
      "+------------------------------+------------------------------+\n",
      "| Id:                          | 2                            |\n",
      "| Nome:                        | Roberto                      |\n",
      "| Idade:                       | 75                           |\n",
      "+------------------------------+------------------------------+\n",
      "| Contato de Emergência:       | 61 453453456                \n",
      "+------------------------------+------------------------------+\n",
      "+------------------------------+------------------------------+\n",
      "| Id:                          | 3                            |\n",
      "| Nome:                        | Ana                          |\n",
      "| Idade:                       | 50                           |\n",
      "+------------------------------+------------------------------+\n",
      "| Contato de Emergência:       | 63 987654321                \n",
      "+------------------------------+------------------------------+\n"
     ]
    }
   ],
   "source": [
    "# Chamando o método __str__ em objetos de classes diferentes\n",
    "print(\"Informações dos Receptores:\")\n",
    "Receptor.listar()"
   ]
  },
  {
   "cell_type": "markdown",
   "id": "8af2a509",
   "metadata": {},
   "source": [
    "#### Resumo\n",
    "\n",
    "O **polimorfismo** é um dos conceitos fundamentais da Programação Orientada a Objetos (POO). Ele permite que diferentes classes compartilhem métodos com o mesmo nome, mas com comportamentos distintos. Em outras palavras, o polimorfismo possibilita que um mesmo método ou operação funcione de maneira diferente dependendo do objeto que o invoca.\n",
    "\n",
    "#### Exemplos de Polimorfismo \n",
    "1. **Com Herança**: Classes filhas podem sobrescrever métodos da classe pai, permitindo comportamentos específicos para cada classe.\n",
    "2. **Com Métodos Compartilhados**: Funções podem operar em objetos de diferentes classes, desde que esses objetos implementem os métodos esperados.\n",
    "\n",
    "#### Benefícios do Polimorfismo\n",
    "- **Flexibilidade**: Permite que o código seja mais genérico e reutilizável.\n",
    "- **Extensibilidade**: Facilita a adição de novas funcionalidades sem alterar o código existente.\n",
    "- **Manutenção**: Reduz a duplicação de código, tornando-o mais fácil de manter.\n",
    "\n",
    "Em Python, o polimorfismo é implementado de forma natural devido à sua tipagem dinâmica e suporte a herança, tornando-o uma ferramenta poderosa para criar sistemas flexíveis e escaláveis."
   ]
  }
 ],
 "metadata": {
  "kernelspec": {
   "display_name": "Python 3",
   "language": "python",
   "name": "python3"
  },
  "language_info": {
   "codemirror_mode": {
    "name": "ipython",
    "version": 3
   },
   "file_extension": ".py",
   "mimetype": "text/x-python",
   "name": "python",
   "nbconvert_exporter": "python",
   "pygments_lexer": "ipython3",
   "version": "3.12.3"
  }
 },
 "nbformat": 4,
 "nbformat_minor": 5
}
