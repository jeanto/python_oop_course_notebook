{
 "cells": [
  {
   "cell_type": "markdown",
   "id": "343c4eee",
   "metadata": {},
   "source": [
    "# Programação Orientada a Objetos (POO) em Python \n",
    "\n",
    "[Aprenda Python com Jupyter](https://github.com/jeanto/python_programming_course_notebook) by [Jean Nunes](https://jeanto.github.io/jeannunes)   \n",
    "Code license: [GNU-GPL v3](https://www.gnu.org/licenses/gpl-3.0.en.html)\n",
    "\n",
    "---"
   ]
  },
  {
   "cell_type": "markdown",
   "id": "497af5af",
   "metadata": {},
   "source": [
    "### 1 . Herança e Composição"
   ]
  },
  {
   "cell_type": "markdown",
   "id": "aee51b71",
   "metadata": {},
   "source": [
    "### Diferença entre Composição e Herança\n",
    "\n",
    "**Composição** e **herança** são dois conceitos fundamentais na Programação Orientada a Objetos (POO) que permitem criar relações entre classes. A principal diferença está na forma como essas relações são estabelecidas:\n",
    "\n",
    "1. **Herança**:\n",
    "   - Representa uma relação do tipo \"é um\" (**is-a**).\n",
    "   - Uma classe filha herda atributos e métodos de uma classe pai.\n",
    "   - É usada quando uma classe precisa estender ou especializar o comportamento de outra.\n",
    "   - Exemplo: Um `Doador` **é uma** `Pessoa`.\n",
    "\n",
    "2. **Composição**:\n",
    "   - Representa uma relação do tipo \"tem um\" (**has-a**).\n",
    "   - Uma classe contém outra classe como um atributo.\n",
    "   - É usada para criar objetos complexos combinando objetos menores e reutilizáveis.\n",
    "   - Exemplo: Um `Doador` **tem uma** `IntencaoDeDoar`.\n",
    "\n",
    "---\n",
    "\n",
    "### Quando Usar Cada Um?\n",
    "\n",
    "- **Herança**:\n",
    "  - Use quando há uma relação clara de especialização entre as classes.\n",
    "  - Exemplo: `Doador` herda de `Pessoa` porque compartilha características comuns, mas pode ter comportamentos específicos.\n",
    "\n",
    "- **Composição**:\n",
    "  - Use quando uma classe precisa ser composta por outras classes, mas não há uma relação de especialização.\n",
    "  - Exemplo: Um `Doador` contém uma `IntencaoDeDoar`, mas uma `IntencaoDeDoar` não é um tipo de `Doador`.\n",
    "\n",
    "---"
   ]
  },
  {
   "cell_type": "markdown",
   "id": "4cdaf3ab",
   "metadata": {},
   "source": [
    "#### Exemplo de Herança\n",
    "\n",
    "Classe `Pessoa` (Base para Herança)"
   ]
  },
  {
   "cell_type": "code",
   "execution_count": null,
   "id": "ea11a71a",
   "metadata": {},
   "outputs": [],
   "source": [
    "from abc import ABC, abstractmethod\n",
    "\n",
    "class Pessoa(ABC):\n",
    "    def __init__(self, nome, idade, id=None):\n",
    "        self._nome = nome\n",
    "        self._idade = idade\n",
    "        self._id = id\n",
    "\n",
    "    def __str__(self):\n",
    "        return (\n",
    "            f\"+{'-'*30}+{'-'*30}+\\n\"\n",
    "            f\"| {'Id:'.ljust(28)} | {str(self._id).ljust(28)} |\\n\"\n",
    "            f\"| {'Nome:'.ljust(28)} | {self._nome.ljust(28)} |\\n\"\n",
    "            f\"| {'Idade:'.ljust(28)} | {str(self._idade).ljust(28)} |\\n\"\n",
    "            f\"+{'-'*30}+{'-'*30}+\"\n",
    "        )"
   ]
  },
  {
   "cell_type": "code",
   "execution_count": null,
   "id": "f9a6e84d",
   "metadata": {},
   "outputs": [],
   "source": [
    "class Doador(Pessoa):\n",
    "\n",
    "    contador_doadores = 0   # Atributo de classe\n",
    "    doadores = {}           # Dicionário para armazenar doadores\n",
    "\n",
    "    def __init__(self, nome, idade, tipo_sanguineo):\n",
    "        Doador.contador_doadores += 1 # Incrementa o contador de pessoas\n",
    "        super().__init__(nome, idade, id=Doador.contador_doadores)  # Chama o construtor da superclasse\n",
    "        self._tipo_sanguineo    = tipo_sanguineo\n",
    "        self._intencao_doar     = None  # Inicializa a intenção como None\n",
    "\n",
    "    def __str__(self):\n",
    "        info = super().__str__() + \"\\n\"\n",
    "        if self._tipo_sanguineo:\n",
    "            info += f\"| {str('Tipo Sanguíneo:').ljust(28)} | {self._tipo_sanguineo.ljust(28)}\\n\"\n",
    "            info += f\"+{'-'*30}+{'-'*30}+\"\n",
    "        return info\n",
    "    \n",
    "    @classmethod\n",
    "    def cadastrar(cls, nome, idade, tipo_sanguineo):\n",
    "        \"\"\"\n",
    "        Método de classe para criar e retornar um objeto Doador com os dados fornecidos.\n",
    "\n",
    "        Args:\n",
    "            nome (str): O nome do doador.\n",
    "            idade (any): A idade do doador. Será convertida para inteiro.\n",
    "            tipo_sanguineo (str): O tipo sanguíneo do doador.\n",
    "\n",
    "        Returns:\n",
    "            Doador: Um objeto da classe Doador com os atributos definidos.\n",
    "        \"\"\"\n",
    "\n",
    "        ## Validações de tipo e de valor ##\n",
    "\n",
    "\n",
    "\n",
    "        ## Cadastra o doador ##\n",
    "        doador = cls(nome, idade, tipo_sanguineo)\n",
    "\n",
    "        # Salva doador em um dicionário\n",
    "        cls.doadores[doador._id] = {}\n",
    "        cls.doadores[doador._id][\"dados\"] = doador\n",
    "\n",
    "        return doador\n",
    "\n",
    "    @classmethod\n",
    "    def listar(cls): \n",
    "        '''\n",
    "        Método de classe para listar todos os doadores cadastrados.\n",
    "\n",
    "        Args:\n",
    "            cls: A classe Doador.\n",
    "\n",
    "        Returns:\n",
    "            None: Este método não retorna nada, apenas imprime os dados dos doadores.\n",
    "\n",
    "        '''\n",
    "\n",
    "        if cls.doadores:\n",
    "            for _, id in cls.doadores.items():\n",
    "                for _, dados in id.items():\n",
    "                    print(dados) # chamando o método __str__ da classe Doador\n",
    "        else:\n",
    "            print(\"Nenhum doador cadastrado.\")\n",
    "\n",
    "\n",
    "    @classmethod\n",
    "    def atualizar_intencao(cls, doador_id, intencao_doar):\n",
    "        '''Atualiza a intenção de doação do doador.\n",
    "        \n",
    "        Args:\n",
    "            doador_id (int): ID do doador.\n",
    "            intencao_doar (object): objeto que representa a intenção de doação.\n",
    "\n",
    "        Returns:\n",
    "            None\n",
    "        \n",
    "        '''\n",
    "\n",
    "        if doador_id not in cls.doadores:\n",
    "            raise ValueError(\"Doador não encontrado.\")\n",
    "        \n",
    "        if intencao_doar:\n",
    "            cls.doadores[doador_id][\"intencao\"] = intencao_doar\n",
    "\n",
    "        cls.doadores[doador_id][\"dados\"]._intencao_doar = intencao_doar\n"
   ]
  },
  {
   "cell_type": "code",
   "execution_count": null,
   "id": "1d28cbbc",
   "metadata": {},
   "outputs": [],
   "source": [
    "# Criando instâncias normais\n",
    "Doador.cadastrar(\"João\", 20, \"O+\")\n",
    "Doador.cadastrar(\"Maria\", 25, \"A-\")\n",
    "Doador.cadastrar(\"José\", 30, \"B+\")"
   ]
  },
  {
   "cell_type": "code",
   "execution_count": null,
   "id": "4782c70f",
   "metadata": {},
   "outputs": [],
   "source": [
    "# Chamando o método __str__ em objetos de classes diferentes\n",
    "print(\"Informações dos Doadores:\")\n",
    "Doador.listar()"
   ]
  },
  {
   "cell_type": "markdown",
   "id": "1887e60e",
   "metadata": {},
   "source": [
    "### Exemplo de Composição\n",
    "\n",
    "Classe `IntençãoDeDoar` (Composição)"
   ]
  },
  {
   "cell_type": "code",
   "execution_count": null,
   "id": "ce9232d3",
   "metadata": {},
   "outputs": [],
   "source": [
    "class IntencaoDeDoar:\n",
    "    \"\"\"\n",
    "    Inicializa uma nova instância da classe IntencaoDeDoar.\n",
    "\n",
    "    Args:\n",
    "        doador_id (int): O identificador único do doador que manifestou a intenção de doar.\n",
    "        orgaos_id (list[int]): Uma lista de identificadores dos órgãos relacionados à intenção de doar.\n",
    "        data_intencao (datetime.date): A data em que a intenção de doar foi registrada.\n",
    "        status (str): O status atual da intenção de doar (ex.: \"pendente\", \"confirmada\", \"cancelada\").\n",
    "    \"\"\"\n",
    "\n",
    "    def __init__(self, doador_id, data_intencao, status, orgaos_id):\n",
    "        self._doador_id = doador_id\n",
    "        self._data_intencao = data_intencao\n",
    "        self._status = status\n",
    "        self._orgaos_id = orgaos_id\n",
    "\n",
    "    def __str__(self):\n",
    "        info = \"Intenção de Doar \\n\"\n",
    "        info += f\"{str('Doador ID:').ljust(30)} {self._doador_id} \\n\" \n",
    "        info += f\"{str('Data:').ljust(30)} {self._data_intencao.strftime('%Y-%m-%d %H:%M:%S')}\\n\"\n",
    "        info += f\"{str('Intenção:').ljust(30)} {str(self._status).upper()}\\n\"\n",
    "        return info"
   ]
  },
  {
   "cell_type": "code",
   "execution_count": null,
   "id": "53794cc5",
   "metadata": {},
   "outputs": [],
   "source": [
    "doador = Doador.cadastrar(\"Roberto\", 60, \"B+\")"
   ]
  },
  {
   "cell_type": "code",
   "execution_count": null,
   "id": "d994d4ea",
   "metadata": {},
   "outputs": [],
   "source": [
    "from datetime import datetime\n",
    "\n",
    "intencao_de_doar = IntencaoDeDoar(doador._id, datetime.now(), \"s\", [1, 2, 3])\n"
   ]
  },
  {
   "cell_type": "code",
   "execution_count": null,
   "id": "bb0b2b2c",
   "metadata": {},
   "outputs": [],
   "source": [
    "doador.atualizar_intencao(doador._id, intencao_de_doar)"
   ]
  },
  {
   "cell_type": "code",
   "execution_count": null,
   "id": "261cc210",
   "metadata": {},
   "outputs": [],
   "source": [
    "print(doador)\n",
    "print(doador._intencao_doar) "
   ]
  },
  {
   "cell_type": "markdown",
   "id": "e4d5a54a",
   "metadata": {},
   "source": [
    "---\n",
    "\n",
    "### Conclusão\n",
    "\n",
    "- **Herança** é útil para reutilizar código e criar hierarquias de classes.\n",
    "- **Composição** é mais flexível e promove maior reutilização de componentes, pois evita dependências rígidas entre classes.\n",
    "\n",
    "Ao projetar sistemas, prefira **composição** sobre **herança** quando possível, pois ela reduz o acoplamento e facilita a manutenção do código."
   ]
  }
 ],
 "metadata": {
  "kernelspec": {
   "display_name": "Python 3",
   "language": "python",
   "name": "python3"
  },
  "language_info": {
   "codemirror_mode": {
    "name": "ipython",
    "version": 3
   },
   "file_extension": ".py",
   "mimetype": "text/x-python",
   "name": "python",
   "nbconvert_exporter": "python",
   "pygments_lexer": "ipython3",
   "version": "3.13.2"
  }
 },
 "nbformat": 4,
 "nbformat_minor": 5
}
