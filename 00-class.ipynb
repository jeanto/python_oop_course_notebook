{
 "cells": [
  {
   "cell_type": "markdown",
   "metadata": {
    "vscode": {
     "languageId": "plaintext"
    }
   },
   "source": [
    "# Programação Orientada a Objetos (POO) em Python \n",
    "\n",
    "[Aprenda Python com Jupyter](https://github.com/jeanto/python_programming_course_notebook) by [Jean Nunes](https://jeanto.github.io/jeannunes)   \n",
    "Code license: [GNU-GPL v3](https://www.gnu.org/licenses/gpl-3.0.en.html)\n",
    "\n",
    "---"
   ]
  },
  {
   "cell_type": "markdown",
   "metadata": {},
   "source": [
    "A Programação Orientada a Objetos (POO) é um paradigma de programação que organiza o código em torno de **objetos**. Esses objetos são instâncias de **classes**, que definem os atributos (dados) e métodos (comportamentos) que os objetos podem ter.\n",
    "\n",
    "## Principais conceitos da POO\n",
    "\n",
    "1. **Classe**: Um modelo ou blueprint para criar objetos.\n",
    "2. **Objeto**: Uma instância de uma classe.\n",
    "3. **Atributos**: Variáveis que armazenam dados do objeto.\n",
    "4. **Métodos**: Funções que definem o comportamento do objeto.\n",
    "5. **Encapsulamento**: Restrição de acesso a partes internas do objeto.\n",
    "6. **Herança**: Capacidade de uma classe herdar atributos e métodos de outra.\n",
    "7. **Polimorfismo**: Capacidade de usar métodos de forma intercambiável entre classes relacionadas.\n",
    "\n",
    "Vamos explorar cada um desses conceitos com exemplos em Python."
   ]
  },
  {
   "cell_type": "markdown",
   "metadata": {},
   "source": [
    "## 1. Classes\n",
    "\n",
    "### O que é uma Classe?\n",
    "\n",
    "Uma **classe** é um dos principais conceitos da Programação Orientada a Objetos (POO). Ela funciona como um **molde** ou **modelo** para criar objetos. Uma classe define os **atributos** (características) e **métodos** (comportamentos) que os objetos criados a partir dela terão.\n",
    "\n",
    "Em Python, uma classe é definida usando a palavra-chave `class`.\n",
    "\n",
    "---\n",
    "\n",
    "### Como funciona?\n",
    "\n",
    "1. **Definição da Classe**: Você define uma classe com atributos e métodos.\n",
    "2. **Instanciação**: A partir da classe, você cria objetos (instâncias).\n",
    "3. **Uso dos Objetos**: Os objetos podem acessar os atributos e métodos definidos na classe.\n",
    "\n",
    "---\n",
    "\n",
    "#### Definindo uma Classe\n",
    "Aqui está um exemplo básico de uma classe chamada `Pessoa`:"
   ]
  },
  {
   "cell_type": "code",
   "execution_count": null,
   "metadata": {},
   "outputs": [],
   "source": [
    "class Pessoa:\n",
    "    # funcao construtora\n",
    "    def __init__(self, nome, sobrenome, idade):\n",
    "        self.nome = nome\n",
    "        self.sobrenome = sobrenome\n",
    "        self.idade = idade\n",
    "\n",
    "    def apresentar(self):\n",
    "        return f\"Olá, meu nome é {self.nome} {self.sobrenome} e eu tenho {self.idade} anos.\""
   ]
  },
  {
   "cell_type": "markdown",
   "metadata": {},
   "source": [
    "- O método `__init__` é o **construtor** da classe. Ele é chamado automaticamente quando criamos um objeto e inicializa os atributos.\n",
    "- `self` é uma referência ao próprio objeto. Ele é usado para acessar os atributos e métodos da instância.\n",
    "\n",
    "---\n",
    "\n",
    "#### Criando Objetos (Instâncias)\n",
    "Agora, vamos criar objetos a partir da classe `Pessoa`:"
   ]
  },
  {
   "cell_type": "code",
   "execution_count": null,
   "metadata": {},
   "outputs": [],
   "source": [
    "# Criando instâncias da classe Pessoa\n",
    "pessoa1 = Pessoa(\"Darth\", \"Vader\", 45)\n",
    "print(pessoa1.apresentar())"
   ]
  },
  {
   "cell_type": "code",
   "execution_count": null,
   "metadata": {},
   "outputs": [],
   "source": [
    "pessoa2 = Pessoa(\"James\", \"Bonde\", 40)\n",
    "print(pessoa2.apresentar())"
   ]
  },
  {
   "cell_type": "code",
   "execution_count": null,
   "metadata": {},
   "outputs": [],
   "source": [
    "# Criando instâncias da classe Pessoa\n",
    "pessoa1 = Pessoa(\"Darth\", \"Vader\", 45)\n",
    "pessoa2 = Pessoa(\"James\", \"Bonde\", 40)\n",
    "\n",
    "# Chamando o método apresentar\n",
    "print(pessoa1.apresentar())  # Saída: Olá, meu nome é xxxxx e tenho xx anos.\n",
    "print(pessoa2.apresentar())  # Saída: Olá, meu nome é xxxxx e tenho xx anos."
   ]
  },
  {
   "cell_type": "code",
   "execution_count": null,
   "metadata": {},
   "outputs": [],
   "source": [
    "print(pessoa1)"
   ]
  },
  {
   "cell_type": "code",
   "execution_count": null,
   "metadata": {},
   "outputs": [],
   "source": [
    "class Pessoa:\n",
    "    def __init__(self, nome, sobrenome, idade):\n",
    "        self.nome = nome\n",
    "        self.sobrenome = sobrenome\n",
    "        self.idade = idade\n",
    "\n",
    "    def __str__(self):\n",
    "        return f\"Olá, meu nome é {self.nome} {self.sobrenome} e eu tenho {self.idade} anos.\""
   ]
  },
  {
   "cell_type": "markdown",
   "metadata": {},
   "source": [
    "- o método __str__() é um método especial que é chamado quando uma instância da classe é convertida para uma string (por exemplo, quando você deseja imprimir a instância). Em outras palavras, ao definir o método __str__ para sua classe, você pode decidir qual será a versão imprimível das instâncias da sua classe. O método deve retornar uma string."
   ]
  },
  {
   "cell_type": "code",
   "execution_count": null,
   "metadata": {},
   "outputs": [],
   "source": [
    "# Criando instâncias da classe Pessoa\n",
    "pessoa1 = Pessoa(\"Darth\", \"Vader\", 45)\n",
    "pessoa2 = Pessoa(\"James\", \"Bonde\", 40)\n",
    "\n",
    "# Chamando o método apresentar\n",
    "print(pessoa1)  # Saída: Olá, meu nome é xxxxx e tenho xx anos.\n",
    "print(pessoa2)  # Saída: Olá, meu nome é xxxxx e tenho xx anos."
   ]
  },
  {
   "cell_type": "markdown",
   "metadata": {},
   "source": [
    "---\n",
    "\n",
    "## 2. Variáveis de Classe e Variáveis de Instância\n",
    "\n",
    "Em Python, as **variáveis de classe** e as **variáveis de instância** são dois tipos de atributos que podem ser definidos em uma classe. Elas têm comportamentos diferentes em relação ao escopo e ao compartilhamento de valores entre os objetos.\n",
    "\n",
    "---\n",
    "\n",
    "### I. **Variáveis de Instância**\n",
    "\n",
    "- **Definição**: São atributos que pertencem a uma **instância específica** de uma classe. Cada objeto criado a partir da classe terá sua própria cópia desses atributos.\n",
    "- **Onde são definidas**: Dentro do método `__init__` (ou outros métodos), usando `self`.\n",
    "- **Escopo**: Pertencem apenas ao objeto (instância) e não são compartilhadas entre diferentes objetos.\n",
    "\n",
    "#### Exemplo:\n",
    "\n"
   ]
  },
  {
   "cell_type": "code",
   "execution_count": null,
   "metadata": {},
   "outputs": [],
   "source": [
    "class Pessoa:\n",
    "    def __init__(self, nome, sobrenome, idade):\n",
    "        self.nome = nome\n",
    "        self.sobrenome = sobrenome\n",
    "        self.idade = idade\n",
    "\n",
    "    def __str__(self):\n",
    "        return f\"Olá, meu nome é {self.nome} {self.sobrenome} e eu tenho {self.idade} anos.\"\n",
    "\n",
    "# Criando instâncias da classe Pessoa\n",
    "pessoa1 = Pessoa(\"Darth\", \"Vader\", 45)\n",
    "pessoa2 = Pessoa(\"James\", \"Bonde\", 40)\n",
    "\n",
    "# Chamando o método apresentar\n",
    "print(pessoa1)  # Saída: Olá, meu nome é xxxxx e tenho xx anos.\n",
    "print(pessoa2)  # Saída: Olá, meu nome é xxxxx e tenho xx anos."
   ]
  },
  {
   "cell_type": "markdown",
   "metadata": {},
   "source": [
    "---\n",
    "\n",
    "### II. **Variáveis de Classe**\n",
    "\n",
    "- **Definição**: São atributos que pertencem à **classe** e são compartilhados por todas as instâncias da classe.\n",
    "- **Onde são definidas**: Diretamente no corpo da classe, fora de qualquer método.\n",
    "- **Escopo**: São acessíveis por todas as instâncias e pela própria classe.\n",
    "\n",
    "#### Exemplo:\n"
   ]
  },
  {
   "cell_type": "code",
   "execution_count": null,
   "metadata": {},
   "outputs": [],
   "source": [
    "class Pessoa:\n",
    "    especie = \"Humano\"  # Variável de classe\n",
    "\n",
    "    def __init__(self, nome, sobrenome, idade):\n",
    "        self.nome = nome\n",
    "        self.sobrenome = sobrenome\n",
    "        self.idade = idade\n",
    "\n",
    "    def __str__(self):\n",
    "        return f\"Olá, meu nome é {self.nome} {self.sobrenome} e eu tenho {self.idade} anos.\"\n",
    "\n",
    "# Criando instâncias da classe Pessoa\n",
    "pessoa1 = Pessoa(\"Darth\", \"Vader\", 45)\n",
    "pessoa2 = Pessoa(\"James\", \"Bonde\", 40)\n",
    "pessoa1.nome = \"DarthII\"\n",
    "pessoa2.sobrenome = \"Rodrigues\"\n",
    "\n",
    "# Acessando a variável de classe\n",
    "print(pessoa1.especie)  # Saída: Humano\n",
    "print(pessoa2.especie)  # Saída: Humano\n",
    "\n",
    "# Alterando a variável de classe\n",
    "Pessoa.especie = \"Ser Humano\"\n",
    "print(pessoa1.especie)  # Saída: Ser Humano\n",
    "print(pessoa2.especie)  # Saída: Ser Humano"
   ]
  },
  {
   "cell_type": "code",
   "execution_count": null,
   "metadata": {},
   "outputs": [],
   "source": [
    "pessoa1.nome = \"Obi-Wan\"\n",
    "print(pessoa1.nome + \" \" + pessoa1.sobrenome)"
   ]
  },
  {
   "cell_type": "markdown",
   "metadata": {},
   "source": [
    "\n",
    "---\n",
    "\n",
    "### Diferenças Principais\n",
    "\n",
    "| **Aspecto**            | **Variável de Instância**                          | **Variável de Classe**                          |\n",
    "|-------------------------|---------------------------------------------------|------------------------------------------------|\n",
    "| **Escopo**             | Pertence a uma instância específica               | Pertence à classe e é compartilhada por todas as instâncias |\n",
    "| **Definição**          | Dentro do método `__init__` (ou outros métodos)   | Diretamente no corpo da classe                |\n",
    "| **Acesso**             | Acessada via `self`                               | Acessada via `self` ou diretamente pela classe |\n",
    "| **Compartilhamento**   | Cada instância tem sua própria cópia               | Compartilhada entre todas as instâncias        |\n",
    "\n",
    "- Use **variáveis de instância** para armazenar dados específicos de cada objeto.\n",
    "- Use **variáveis de classe** para armazenar dados compartilhados entre todas as instâncias da classe."
   ]
  }
 ],
 "metadata": {
  "kernelspec": {
   "display_name": "Python 3",
   "language": "python",
   "name": "python3"
  },
  "language_info": {
   "codemirror_mode": {
    "name": "ipython",
    "version": 3
   },
   "file_extension": ".py",
   "mimetype": "text/x-python",
   "name": "python",
   "nbconvert_exporter": "python",
   "pygments_lexer": "ipython3",
   "version": "3.12.3"
  }
 },
 "nbformat": 4,
 "nbformat_minor": 2
}
