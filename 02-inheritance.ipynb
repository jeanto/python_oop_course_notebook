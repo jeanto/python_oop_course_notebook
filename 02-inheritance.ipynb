{
 "cells": [
  {
   "cell_type": "markdown",
   "metadata": {},
   "source": [
    "# Programação Orientada a Objetos (POO) em Python \n",
    "\n",
    "[Aprenda Python com Jupyter](https://github.com/jeanto/python_programming_course_notebook) by [Jean Nunes](https://jeanto.github.io/jeannunes)   \n",
    "Code license: [GNU-GPL v3](https://www.gnu.org/licenses/gpl-3.0.en.html)\n",
    "\n",
    "---"
   ]
  },
  {
   "cell_type": "markdown",
   "metadata": {},
   "source": [
    "# Herança em Programação Orientada a Objetos\n",
    "\n",
    "## O que é Herança?\n",
    "\n",
    "A **herança** é um dos pilares da Programação Orientada a Objetos (POO). Ela permite que uma classe (chamada de **classe filha** ou **subclasse**) herde atributos e métodos de outra classe (chamada de **classe pai** ou **superclasse**).\n",
    "\n",
    "Com a herança, podemos reutilizar código, evitar duplicação e criar hierarquias de classes.\n",
    "\n",
    "---\n",
    "\n",
    "## Exemplo Básico de Herança\n",
    "\n",
    "Vamos criar uma classe base chamada `Pessoa` e duas subclasses chamadas `Doador` e `Receptor`.\n",
    "\n",
    "### Definindo a classe base (superclasse)"
   ]
  },
  {
   "cell_type": "code",
   "execution_count": null,
   "metadata": {},
   "outputs": [],
   "source": [
    "class Pessoa:\n",
    "    def __init__(self, nome, idade):\n",
    "        self.nome = nome\n",
    "        self.idade = idade\n",
    "\n",
    "    def apresentar(self):\n",
    "        return f\"Olá, meu nome é {self.nome} e tenho {self.idade} anos.\""
   ]
  },
  {
   "cell_type": "markdown",
   "metadata": {},
   "source": [
    "### Definindo uma subclasse que herda de Pessoa"
   ]
  },
  {
   "cell_type": "code",
   "execution_count": null,
   "metadata": {},
   "outputs": [],
   "source": [
    "class Doador(Pessoa):\n",
    "    def __init__(self, nome, idade, tipo_sanguineo):\n",
    "        super().__init__(nome, idade)  # Chama o construtor da superclasse\n",
    "        self.tipo_sanguineo = tipo_sanguineo\n",
    "\n",
    "    def apresentar(self):\n",
    "        return f\"Sou o doador {self.nome}, tenho {self.idade} anos e meu tipo sanguíneo é {self.tipo_sanguineo}.\""
   ]
  },
  {
   "cell_type": "markdown",
   "metadata": {},
   "source": [
    "### Definindo outra subclasse que herda de Pessoa"
   ]
  },
  {
   "cell_type": "code",
   "execution_count": null,
   "metadata": {},
   "outputs": [],
   "source": [
    "class Receptor(Pessoa):\n",
    "    def __init__(self, nome, idade, contato_emergencia):\n",
    "        super().__init__(nome, idade)  # Chama o construtor da superclasse\n",
    "        self.contato_emergencia = contato_emergencia\n",
    "\n",
    "    def apresentar(self):\n",
    "        return f\"Sou o receptor {self.nome}, tenho {self.idade} anos e meu contato emergencial é {self.contato_emergencia}.\""
   ]
  },
  {
   "cell_type": "markdown",
   "metadata": {},
   "source": [
    "### Criando Objetos e Usando Herança\n",
    "\n",
    "#### Criando objetos das subclasses"
   ]
  },
  {
   "cell_type": "code",
   "execution_count": null,
   "metadata": {},
   "outputs": [],
   "source": [
    "doador = Doador(\"João\", 20, \"O+\")\n",
    "receptor = Receptor(\"Maria\", 40, \"61 96548 2148\")"
   ]
  },
  {
   "cell_type": "markdown",
   "metadata": {},
   "source": [
    "#### Chamando o método apresentar"
   ]
  },
  {
   "cell_type": "code",
   "execution_count": null,
   "metadata": {},
   "outputs": [],
   "source": [
    "print(doador.apresentar()) \n",
    "print(receptor.apresentar())"
   ]
  },
  {
   "cell_type": "markdown",
   "metadata": {},
   "source": [
    "### Acessando Métodos e Atributos da Superclasse\n",
    "\n",
    "Mesmo que as subclasses tenham seus próprios métodos, elas ainda podem acessar os métodos e atributos da superclasse."
   ]
  },
  {
   "cell_type": "code",
   "execution_count": null,
   "metadata": {},
   "outputs": [],
   "source": [
    "print(doador.nome)  # Saída: João (herdado da classe Pessoa)\n",
    "print(receptor.idade)  # Saída: 40 (herdado da classe Pessoa)"
   ]
  },
  {
   "cell_type": "markdown",
   "metadata": {},
   "source": [
    "### Sobrescrita de Métodos (Overriding)\n",
    "\n",
    "No exemplo acima, tanto `Doador` quanto `Receptor` sobrescreveram o método `apresentar` da classe `Pessoa`. Isso é chamado de sobrescrita de métodos.\n",
    "\n",
    "---"
   ]
  },
  {
   "cell_type": "markdown",
   "metadata": {},
   "source": [
    "### Herança Múltipla\n",
    "\n",
    "Em Python, uma classe pode herdar de mais de uma classe. Isso é chamado de herança múltipla.\n",
    "\n",
    "Exemplo de Herança Múltipla"
   ]
  },
  {
   "cell_type": "code",
   "execution_count": null,
   "metadata": {},
   "outputs": [],
   "source": [
    "class Administrador:\n",
    "    def __init__(self, nome, sobrenome, senha):\n",
    "        self.usuario = str(nome[0]).lower() + sobrenome\n",
    "        self.senha = senha\n",
    "\n",
    "    def mostrar_credenciais(self):\n",
    "        return f\"Meu usuário é: {self.usuario} e minha senha é: {self.senha}.\"\n",
    "\n",
    "class AdministradorDoador(Doador, Administrador):\n",
    "    def __init__(self, nome, idade, tipo_sanguineo, sobrenome, senha):\n",
    "        Doador.__init__(self, nome, idade, tipo_sanguineo)\n",
    "        Administrador.__init__(self, nome, sobrenome, senha)"
   ]
  },
  {
   "cell_type": "markdown",
   "metadata": {},
   "source": [
    "#### Criando um objeto da classe `AdministradorDoador`\n"
   ]
  },
  {
   "cell_type": "code",
   "execution_count": null,
   "metadata": {},
   "outputs": [],
   "source": [
    "administrador_doador = AdministradorDoador(\"Carlos\", 22, \"O+\", \"José\", \"jose123\")"
   ]
  },
  {
   "cell_type": "markdown",
   "metadata": {},
   "source": [
    "#### Chamando métodos herdados"
   ]
  },
  {
   "cell_type": "code",
   "execution_count": null,
   "metadata": {},
   "outputs": [],
   "source": [
    "print(administrador_doador.apresentar()) \n",
    "print(administrador_doador.mostrar_credenciais())  "
   ]
  },
  {
   "cell_type": "markdown",
   "metadata": {},
   "source": [
    "### Conclusão\n",
    "\n",
    "A herança é uma ferramenta poderosa que permite reutilizar código e criar hierarquias de classes. Ela facilita a organização e manutenção do código, além de promover a reutilização e extensibilidade."
   ]
  }
 ],
 "metadata": {
  "language_info": {
   "name": "python"
  }
 },
 "nbformat": 4,
 "nbformat_minor": 2
}
