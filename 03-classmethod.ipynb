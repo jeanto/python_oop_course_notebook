{
 "cells": [
  {
   "cell_type": "markdown",
   "metadata": {},
   "source": [
    "# Programação Orientada a Objetos (POO) em Python \n",
    "\n",
    "[Aprenda Python com Jupyter](https://github.com/jeanto/python_programming_course_notebook) by [Jean Nunes](https://jeanto.github.io/jeannunes)   \n",
    "Code license: [GNU-GPL v3](https://www.gnu.org/licenses/gpl-3.0.en.html)\n",
    "\n",
    "---"
   ]
  },
  {
   "cell_type": "markdown",
   "metadata": {},
   "source": [
    "# Métodos de Classe\n",
    "\n",
    "O decorator `@classmethod` em Python é usado para definir um método de classe. Diferentemente dos métodos de instância regulares (que recebem `self` como o primeiro argumento, referindo-se à instância específica da classe), um método de classe recebe `cls` como o primeiro argumento, que se refere à própria classe.\n",
    "\n",
    "**Objetivo e Características Principais:**\n",
    "\n",
    "1. __Acesso à Classe, Não à Instância__: Métodos de classe são vinculados à classe e não à instância específica da classe. Isso significa que eles podem acessar e modificar o estado da classe (como atributos de classe) e chamar outros métodos de classe.\n",
    "\n",
    "2. __`cls` como Primeiro Argumento__: O primeiro parâmetro de um método decorado com `@classmethod` é automaticamente passado como a própria classe (`cls`). Por convenção, esse parâmetro é nomeado `cls`, mas você poderia usar outro nome (embora não seja recomendado).\n",
    "\n",
    "3. __Chamada na Classe ou na Instância__: Métodos de classe podem ser chamados diretamente na classe (`MinhaClasse.metodo_de_classe()`) ou em uma instância da classe (`minha_instancia.metodo_de_classe()`). Em ambos os casos, o primeiro argumento (`cls`) será a própria classe `MinhaClasse`.\n",
    "\n",
    "4. __Casos de Uso:__\n",
    "\n",
    "    - __Métodos Utilitários Relacionados à Classe__: Fornecem funcionalidades que são logicamente associadas à classe, mas não dependem do estado de uma instância específica.\n",
    "    \n",
    "    - __Acesso e Modificação de Atributos de Classe__: Permitem interagir com variáveis que são compartilhadas por todas as instâncias da classe.\n",
    "\n",
    "---\n",
    "\n",
    "### Exemplo Básico de `@classmethod`"
   ]
  },
  {
   "cell_type": "code",
   "execution_count": null,
   "metadata": {},
   "outputs": [],
   "source": [
    "class Pessoa:\n",
    "\n",
    "    def __init__(self, nome, idade, id=None):\n",
    "        self._nome = nome\n",
    "        self._idade = idade\n",
    "        self._id = id\n",
    "\n",
    "    def __str__(self):\n",
    "        return (f\"{str('Id:').ljust(30)} {self._id}\\n\"\n",
    "                f\"{str('Nome:').ljust(30)} {self._nome}\\n\"\n",
    "                f\"{str('Idade:').ljust(30)} {self._idade}\\n\")"
   ]
  },
  {
   "cell_type": "code",
   "execution_count": null,
   "metadata": {},
   "outputs": [],
   "source": [
    "class Doador(Pessoa):\n",
    "\n",
    "    contador_doadores = 0 # Atributo de classe\n",
    "    contador_doadores_anonimos = 0 # Atributo de classe para contagem de doadores anônimos\n",
    "\n",
    "    def __init__(self, nome, idade, tipo_sanguineo):\n",
    "        Doador.contador_doadores += 1 # Incrementa o contador de pessoas\n",
    "        super().__init__(nome, idade, id=Doador.contador_doadores)  # Chama o construtor da superclasse\n",
    "        self._tipo_sanguineo = tipo_sanguineo\n",
    "\n",
    "\n",
    "    def __str__(self):\n",
    "        info = super().__str__() + \"\\n\"\n",
    "        if self._tipo_sanguineo:\n",
    "            info += f\"{str('Tipo Sanguíneo:').ljust(30)} {self._tipo_sanguineo}\\n\"\n",
    "\n",
    "        return info\n",
    "    \n",
    "    @classmethod\n",
    "    def criar_doador_anonimo(cls, tipo_sanguineo):\n",
    "        \"\"\"\n",
    "        Construtor alternativo que cria uma pessoa anônima.\n",
    "        \n",
    "        Args:\n",
    "            cls: A classe atual (Doador).\n",
    "            tipo_sanguineo: O tipo sanguíneo do doador anônimo.\n",
    "\n",
    "        Returns:\n",
    "            Doador: Uma instância de Doador com nome anônimo.\n",
    "        \"\"\"\n",
    "        cls.contador_doadores_anonimos += 1\n",
    "        nome_anonimo = \"Anônimo\" + str(cls.contador_doadores_anonimos)\n",
    "\n",
    "        return cls(nome_anonimo, 0, tipo_sanguineo)\n",
    "\n",
    "    @classmethod\n",
    "    def get_num_doadores(cls):\n",
    "        \"\"\"\n",
    "        Método de classe para obter o número total de pessoas criadas.\n",
    "        \n",
    "        Args:\n",
    "            cls: A classe atual (Pessoa).\n",
    "\n",
    "        Returns:\n",
    "            int: O número total de pessoas criadas.\n",
    "        \n",
    "        \"\"\"\n",
    "        return cls.contador_doadores\n",
    "    \n",
    "    @classmethod\n",
    "    def get_num_doadores_anonimos(cls):\n",
    "        \"\"\"\n",
    "        Método de classe para obter o número total de doadores anônimos criados.\n",
    "        \n",
    "        Args:\n",
    "            cls: A classe atual (Doador).\n",
    "\n",
    "        Returns:\n",
    "            int: O número total de doadores anônimos criados.\n",
    "        \n",
    "        \"\"\"\n",
    "        return cls.contador_doadores_anonimos"
   ]
  },
  {
   "cell_type": "markdown",
   "metadata": {},
   "source": [
    "#### Criando objetos das subclasses"
   ]
  },
  {
   "cell_type": "code",
   "execution_count": null,
   "metadata": {},
   "outputs": [],
   "source": [
    "# Criando instâncias normais\n",
    "doador1 = Doador(\"João\", 20, \"O+\")\n",
    "doador2 = Doador(\"Maria\", 25, \"A-\")"
   ]
  },
  {
   "cell_type": "code",
   "execution_count": null,
   "metadata": {},
   "outputs": [],
   "source": [
    "print(doador1)"
   ]
  },
  {
   "cell_type": "code",
   "execution_count": null,
   "metadata": {},
   "outputs": [],
   "source": [
    "print(doador2)"
   ]
  },
  {
   "cell_type": "code",
   "execution_count": null,
   "metadata": {},
   "outputs": [],
   "source": [
    "# Criando uma instância usando o construtor alternativo (método de classe)\n",
    "doador_anonimo1 = Doador.criar_doador_anonimo(\"B+\")\n",
    "doador_anonimo2 = Doador.criar_doador_anonimo(\"AB-\")"
   ]
  },
  {
   "cell_type": "code",
   "execution_count": null,
   "metadata": {},
   "outputs": [],
   "source": [
    "print(doador_anonimo1)"
   ]
  },
  {
   "cell_type": "code",
   "execution_count": null,
   "metadata": {},
   "outputs": [],
   "source": [
    "print(doador_anonimo2)"
   ]
  },
  {
   "cell_type": "markdown",
   "metadata": {},
   "source": [
    "#### Chamando o método de classe\n"
   ]
  },
  {
   "cell_type": "code",
   "execution_count": null,
   "metadata": {},
   "outputs": [],
   "source": [
    "# Chamando o método de classe para obter o número de doadores\n",
    "total_doadores = Doador.get_num_doadores()\n",
    "print(f\"Total de doadores cadastrados: {total_doadores}\")"
   ]
  },
  {
   "cell_type": "code",
   "execution_count": null,
   "metadata": {},
   "outputs": [],
   "source": [
    "# Chamando o método de classe para obter o número de doadores anônimos\n",
    "total_doadores_anonimos = Doador.get_num_doadores_anonimos()\n",
    "print(f\"Total de doadores anônimos cadastrados: {total_doadores_anonimos}\") "
   ]
  },
  {
   "cell_type": "markdown",
   "metadata": {},
   "source": [
    "#### Chamando o método de classe em uma instância\n"
   ]
  },
  {
   "cell_type": "code",
   "execution_count": null,
   "metadata": {},
   "outputs": [],
   "source": [
    "total_doadores_via_instancia = doador1.get_num_doadores() # Acessando o método de classe via instância\n",
    "print(f\"Total de doadores cadastrados (via instância): {total_doadores_via_instancia}\")"
   ]
  },
  {
   "cell_type": "code",
   "execution_count": null,
   "metadata": {},
   "outputs": [],
   "source": [
    "total_doadores_anonimos_via_instancia = doador1.get_num_doadores_anonimos() # Acessando o método de classe via instância\n",
    "print(f\"Total de doadores cadastrados (via instância): {total_doadores_anonimos_via_instancia}\")"
   ]
  },
  {
   "cell_type": "markdown",
   "metadata": {},
   "source": [
    "### Conclusão\n",
    "\n",
    "O decorator `@classmethod` permite definir métodos que operam na classe como um todo, em vez de em instâncias específicas. Eles são úteis para criar construtores alternativos, fornecer métodos utilitários relacionados à classe e interagir com atributos de classe. A principal distinção é o primeiro argumento, que é a própria classe (`cls`) em vez da instância (`self`)."
   ]
  }
 ],
 "metadata": {
  "kernelspec": {
   "display_name": "Python 3",
   "language": "python",
   "name": "python3"
  },
  "language_info": {
   "codemirror_mode": {
    "name": "ipython",
    "version": 3
   },
   "file_extension": ".py",
   "mimetype": "text/x-python",
   "name": "python",
   "nbconvert_exporter": "python",
   "pygments_lexer": "ipython3",
   "version": "3.12.3"
  }
 },
 "nbformat": 4,
 "nbformat_minor": 2
}
