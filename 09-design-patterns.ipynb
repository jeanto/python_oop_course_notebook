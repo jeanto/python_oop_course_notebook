{
 "cells": [
  {
   "cell_type": "markdown",
   "id": "7ae68796",
   "metadata": {},
   "source": [
    "# Programação Orientada a Objetos (POO) em Python \n",
    "\n",
    "[Aprenda Python com Jupyter](https://github.com/jeanto/python_programming_course_notebook) by [Jean Nunes](https://jeanto.github.io/jeannunes)   \n",
    "Code license: [GNU-GPL v3](https://www.gnu.org/licenses/gpl-3.0.en.html)\n",
    "\n",
    "---"
   ]
  },
  {
   "cell_type": "markdown",
   "id": "52d66757",
   "metadata": {},
   "source": [
    "## **Padrões de Projeto na POO**\n",
    "\n",
    "Os padrões de projeto são soluções reutilizáveis para problemas recorrentes no desenvolvimento de software. Eles ajudam a estruturar o código de forma mais eficiente, legível e escalável.\n",
    "\n",
    "### **1. Strategy**\n",
    "\n",
    "O padrão __Strategy__ permite definir uma família de algoritmos, encapsulá-los em classes separadas e torná-los intercambiáveis, facilitando a manutenção e expansão do código. É o padrão ideal para implementar a lógica de determinação da gravidade da condição e, com base nisso, definir a posição na lista de espera.\n"
   ]
  },
  {
   "cell_type": "markdown",
   "id": "1851146b",
   "metadata": {},
   "source": [
    "#### **Requisitos**\n",
    "\n",
    "A lógica para determinar a gravidade será baseada nas seguintes regras:\n",
    "\n",
    "1. **Gravidade Alta**:\n",
    "   - O receptor precisa de **coração**, **pulmão** ou **rins** **e** tem mais de **60 anos**.\n",
    "\n",
    "2. **Gravidade Média**:\n",
    "   - O receptor precisa de **coração**, **pulmão** ou **rins** **e** tem entre **40 e 60 anos**.\n",
    "\n",
    "3. **Gravidade Baixa**:\n",
    "   - O receptor tem menos de **40 anos** **ou** não precisa de **coração**, **pulmão** ou **rins**.\n",
    "\n",
    "---\n",
    "\n",
    "#### **Implementação**\n",
    "\n",
    "**1. Interface da Estratégia**\n",
    "\n",
    "A interface define o método `determinar_gravidade`, que será implementado por cada estratégia.\n"
   ]
  },
  {
   "cell_type": "code",
   "execution_count": 5,
   "id": "5e1d9b70",
   "metadata": {},
   "outputs": [],
   "source": [
    "from abc import ABC, abstractmethod\n",
    "\n",
    "class EstrategiaGravidade(ABC):\n",
    "    @abstractmethod\n",
    "    def determinar_gravidade(self, idade, orgao_necessario):\n",
    "        pass"
   ]
  },
  {
   "cell_type": "markdown",
   "id": "4d0023ec",
   "metadata": {},
   "source": [
    "**2. Estratégias Concretas**\n",
    "\n",
    "Cada estratégia implementa a lógica para determinar a gravidade.\n",
    "\n",
    "**Gravidade Alta**\n"
   ]
  },
  {
   "cell_type": "code",
   "execution_count": 6,
   "id": "bac63d8a",
   "metadata": {},
   "outputs": [],
   "source": [
    "class GravidadeAlta(EstrategiaGravidade):\n",
    "    def determinar_gravidade(self, idade, orgao_necessario):\n",
    "        if orgao_necessario in [\"coração\", \"pulmão\", \"rins\"] and idade > 60:\n",
    "            return \"Alta\"\n",
    "        return None"
   ]
  },
  {
   "cell_type": "markdown",
   "id": "3364c3c7",
   "metadata": {},
   "source": [
    "**Gravidade Média**"
   ]
  },
  {
   "cell_type": "code",
   "execution_count": 7,
   "id": "c50a1521",
   "metadata": {},
   "outputs": [],
   "source": [
    "class GravidadeMedia(EstrategiaGravidade):\n",
    "    def determinar_gravidade(self, idade, orgao_necessario):\n",
    "        if orgao_necessario in [\"coração\", \"pulmão\", \"rins\"] and 40 <= idade <= 60:\n",
    "            return \"Média\"\n",
    "        return None"
   ]
  },
  {
   "cell_type": "markdown",
   "id": "d3c3c043",
   "metadata": {},
   "source": [
    "**Gravidade Baixa**"
   ]
  },
  {
   "cell_type": "code",
   "execution_count": 8,
   "id": "f22c8b99",
   "metadata": {},
   "outputs": [],
   "source": [
    "class GravidadeBaixa(EstrategiaGravidade):\n",
    "    def determinar_gravidade(self, idade, orgao_necessario):\n",
    "        if idade < 40 or orgao_necessario not in [\"coração\", \"pulmão\", \"rins\"]:\n",
    "            return \"Baixa\"\n",
    "        return None"
   ]
  },
  {
   "cell_type": "markdown",
   "id": "8ba2d214",
   "metadata": {},
   "source": [
    "**3. Contexto**\n",
    "\n",
    "O contexto utiliza uma estratégia para determinar a gravidade.\n"
   ]
  },
  {
   "cell_type": "code",
   "execution_count": 9,
   "id": "549ce378",
   "metadata": {},
   "outputs": [],
   "source": [
    "class ContextoGravidade:\n",
    "    def __init__(self, estrategia: EstrategiaGravidade):\n",
    "        self._estrategia = estrategia\n",
    "\n",
    "    def definir_estrategia(self, estrategia: EstrategiaGravidade):\n",
    "        self._estrategia = estrategia\n",
    "\n",
    "    def determinar_gravidade(self, idade, orgao_necessario):\n",
    "        return self._estrategia.determinar_gravidade(idade, orgao_necessario)"
   ]
  },
  {
   "cell_type": "markdown",
   "id": "efd16977",
   "metadata": {},
   "source": [
    "**4. Classe Receptor**\n",
    "\n",
    "A classe Receptor utiliza o contexto para determinar a gravidade e a posição na lista de espera."
   ]
  },
  {
   "cell_type": "code",
   "execution_count": 10,
   "id": "62876fca",
   "metadata": {},
   "outputs": [],
   "source": [
    "from abc import ABC\n",
    "\n",
    "class Pessoa(ABC):\n",
    "    def __init__(self, nome, idade, id=None):\n",
    "        self._nome = nome\n",
    "        self._idade = idade\n",
    "        self._id = id\n",
    "\n",
    "    def __str__(self):\n",
    "        return (\n",
    "            f\"+{'-'*30}+{'-'*30}+\\n\"\n",
    "            f\"| {'Id:'.ljust(28)} | {str(self._id).ljust(28)} |\\n\"\n",
    "            f\"| {'Nome:'.ljust(28)} | {self._nome.ljust(28)} |\\n\"\n",
    "            f\"| {'Idade:'.ljust(28)} | {str(self._idade).ljust(28)} |\\n\"\n",
    "            f\"+{'-'*30}+{'-'*30}+\"\n",
    "        )"
   ]
  },
  {
   "cell_type": "code",
   "execution_count": 18,
   "id": "2536069c",
   "metadata": {},
   "outputs": [],
   "source": [
    "class Receptor(Pessoa):\n",
    "    receptores = {}\n",
    "    contador_id = 0\n",
    "    \n",
    "    def __init__(self, nome, idade, tipo_sanguineo, orgao_necessario, centro_transplante_vinculado):\n",
    "        Receptor.contador_id += 1 # Incrementa o contador de IDs\n",
    "        super().__init__(nome, idade, id=Receptor.contador_id)\n",
    "        self._tipo_sanguineo = tipo_sanguineo\n",
    "        self._orgao_necessario = orgao_necessario\n",
    "        self._centro_transplante_vinculado = centro_transplante_vinculado\n",
    "        \n",
    "        self._gravidade_condicao = None\n",
    "        self._posicao_lista_espera = None\n",
    "\n",
    "    def __str__(self):\n",
    "        info = super().__str__() + \"\\n\"\n",
    "        if self._orgao_necessario:\n",
    "            info += f\"{str('Órgão Necessário:').ljust(30)} {self._orgao_necessario}\\n\"\n",
    "        if self._tipo_sanguineo:\n",
    "            info += f\"{str('Tipo Sanguíneo:').ljust(30)} {self._tipo_sanguineo}\\n\"\n",
    "        if self._centro_transplante_vinculado:\n",
    "            info += f\"{str('Centro de Transplante:').ljust(30)} {self._centro_transplante_vinculado}\\n\"\n",
    "\n",
    "        if self._gravidade_condicao:\n",
    "            info += f\"{str('Gravidade da Condição:').ljust(30)} {self._gravidade_condicao}\\n\"\n",
    "        if self._posicao_lista_espera:\n",
    "            info += f\"{str('Posição na Lista de Espera:').ljust(30)} {self._posicao_lista_espera}\\n\"\n",
    "\n",
    "        return info\n",
    "\n",
    "    @property\n",
    "    def id(self):\n",
    "        return self._id\n",
    "\n",
    "    @classmethod\n",
    "    def cadastrar_receptor(cls, nome, idade, tipo_sanguineo, orgao_necessario, \n",
    "                 gravidade_condicao, centro_transplante_vinculado, \n",
    "                 posicao_lista_espera):\n",
    "        \"\"\"\n",
    "        Método de classe para criar e retornar um objeto Receptor com os dados fornecidos.\n",
    "\n",
    "        Args:\n",
    "            nome (str): O nome do receptor.\n",
    "            idade (any): A idade do receptor. Será convertida para inteiro.\n",
    "            tipo_sanguineo (str): O tipo sanguíneo do receptor.\n",
    "\n",
    "        Returns:\n",
    "            Doador: Um objeto da classe Receptor com os atributos definidos, ou None se a idade for inválida.\n",
    "        \"\"\"\n",
    "        ### Validações ###\n",
    "            \n",
    "        receptor = cls(nome, idade, tipo_sanguineo, orgao_necessario, centro_transplante_vinculado)\n",
    "        \n",
    "        cls.receptores[receptor.id] = {}\n",
    "\n",
    "        # Salva receptor em um dicionário\n",
    "        cls.receptores[receptor.id][\"dados\"] = {\n",
    "            \"nome\": nome,\n",
    "            \"idade\": idade,\n",
    "            \"tipo_sanguineo\": tipo_sanguineo            \n",
    "        }\n",
    "        cls.receptores[receptor.id][\"necessidade\"] = {\n",
    "            \"orgao_necessario\": orgao_necessario,\n",
    "            \"gravidade_condicao\": gravidade_condicao, \n",
    "            \"centro_transplante_vinculado\": centro_transplante_vinculado, \n",
    "            \"posicao_lista_espera\": posicao_lista_espera\n",
    "        }\n",
    "\n",
    "        return receptor\n",
    "    \n",
    "    def definir_gravidade(self):\n",
    "        contexto = ContextoGravidade(GravidadeAlta())\n",
    "        self._gravidade_condicao = contexto.determinar_gravidade(self._idade, self._orgao_necessario)\n",
    "\n",
    "        if not self._gravidade_condicao:\n",
    "            contexto.definir_estrategia(GravidadeMedia())\n",
    "            self._gravidade_condicao = contexto.determinar_gravidade(self._idade, self._orgao_necessario)\n",
    "\n",
    "        if not self._gravidade_condicao:\n",
    "            contexto.definir_estrategia(GravidadeBaixa())\n",
    "            self._gravidade_condicao = contexto.determinar_gravidade(self._idade, self._orgao_necessario)"
   ]
  },
  {
   "cell_type": "markdown",
   "id": "d4498dbd",
   "metadata": {},
   "source": [
    "#### Carrega receptores"
   ]
  },
  {
   "cell_type": "code",
   "execution_count": 1,
   "id": "e39267f5",
   "metadata": {},
   "outputs": [],
   "source": [
    "from faker_data_receptores import generate_receptores_short"
   ]
  },
  {
   "cell_type": "code",
   "execution_count": null,
   "id": "0ccc8056",
   "metadata": {},
   "outputs": [],
   "source": [
    "receptor = generate_receptores_short()"
   ]
  },
  {
   "cell_type": "code",
   "execution_count": 23,
   "id": "dcb8fbfb",
   "metadata": {},
   "outputs": [],
   "source": [
    "for _ in range(10):\n",
    "    receptor = generate_receptores_short()\n",
    "    novo_receptor = Receptor.cadastrar_receptor(\n",
    "        nome=receptor[\"dados\"][\"nome\"],\n",
    "        idade=receptor[\"dados\"][\"idade\"],\n",
    "        tipo_sanguineo=receptor[\"dados\"][\"tipo_sanguineo\"],\n",
    "        orgao_necessario=str(receptor[\"necessidade\"][\"orgao_necessario\"]).lower(),\n",
    "        gravidade_condicao=receptor[\"necessidade\"][\"gravidade_condicao\"],\n",
    "        centro_transplante_vinculado=receptor[\"necessidade\"][\"centro_transplante\"],\n",
    "        posicao_lista_espera=receptor[\"necessidade\"][\"posicao_lista_espera\"]\n",
    "    )\n",
    "\n",
    "    novo_receptor.definir_gravidade()\n",
    "\n",
    "    # Abre o arquivo em modo append (adiciona ao final)\n",
    "    with open(\"saida.txt\", \"a\") as arquivo:\n",
    "        print(novo_receptor, file=arquivo)\n",
    "    "
   ]
  }
 ],
 "metadata": {
  "kernelspec": {
   "display_name": "Python 3",
   "language": "python",
   "name": "python3"
  },
  "language_info": {
   "codemirror_mode": {
    "name": "ipython",
    "version": 3
   },
   "file_extension": ".py",
   "mimetype": "text/x-python",
   "name": "python",
   "nbconvert_exporter": "python",
   "pygments_lexer": "ipython3",
   "version": "3.13.2"
  }
 },
 "nbformat": 4,
 "nbformat_minor": 5
}
