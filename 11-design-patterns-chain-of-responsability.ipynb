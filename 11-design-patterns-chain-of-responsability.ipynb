{
 "cells": [
  {
   "cell_type": "markdown",
   "id": "7ae68796",
   "metadata": {},
   "source": [
    "# Programação Orientada a Objetos (POO) em Python \n",
    "\n",
    "[Aprenda Python com Jupyter](https://github.com/jeanto/python_programming_course_notebook) by [Jean Nunes](https://jeanto.github.io/jeannunes)   \n",
    "Code license: [GNU-GPL v3](https://www.gnu.org/licenses/gpl-3.0.en.html)\n",
    "\n",
    "---"
   ]
  },
  {
   "cell_type": "markdown",
   "id": "52d66757",
   "metadata": {},
   "source": [
    "## **Padrões de Projeto na POO: Chain of Responsibility**"
   ]
  },
  {
   "cell_type": "markdown",
   "id": "3ee63b80",
   "metadata": {},
   "source": [
    "O **Chain of Responsibility** (Corrente de Responsabilidade) é um padrão comportamental que permite que um pedido seja processado por uma cadeia de objetos, onde cada objeto decide se processa o pedido ou o encaminha para o próximo na cadeia. Esse padrão é útil para evitar acoplamento direto entre o remetente e o receptor do pedido.\n",
    "\n",
    "No contexto do projeto de doações e receptores, podemos usar o **Chain of Responsibility** para implementar um sistema de validação de receptores antes de adicioná-los à lista de espera. Cada etapa da validação será representada por um \"handler\" (manipulador) na cadeia.\n",
    "\n",
    "---\n",
    "\n",
    "### **Requisitos**\n",
    "\n",
    "1. O receptor deve ter um **nome válido**.\n",
    "2. O receptor deve ter uma **idade maior que 18 anos**.\n",
    "3. O receptor deve ter um **órgão necessário válido** (por exemplo, coração, pulmão, rins, fígado).\n",
    "\n",
    "Se qualquer validação falhar, o receptor não será adicionado à lista de espera.\n",
    "\n",
    "---\n",
    "\n",
    "#### **1. Interface do Handler**\n",
    "\n",
    "A interface define o método `manipular`, que será implementado por cada manipulador."
   ]
  },
  {
   "cell_type": "code",
   "execution_count": null,
   "id": "49f0d2c0",
   "metadata": {},
   "outputs": [],
   "source": [
    "from abc import ABC, abstractmethod\n",
    "\n",
    "class Manipulador(ABC):\n",
    "    def __init__(self, proximo_manipulador=None):\n",
    "        self._proximo_manipulador = proximo_manipulador\n",
    "\n",
    "    def definir_proximo(self, manipulador):\n",
    "        self._proximo_manipulador = manipulador\n",
    "        return manipulador\n",
    "\n",
    "    @abstractmethod\n",
    "    def manipular(self, receptor):\n",
    "        pass"
   ]
  },
  {
   "cell_type": "markdown",
   "id": "fa974e4c",
   "metadata": {},
   "source": [
    "### **2. Manipuladores (*Handlers*) Concretos**\n",
    "\n",
    "Cada manipulador implementa uma etapa da validação.\n",
    "\n",
    "#### **Validação do Nome**"
   ]
  },
  {
   "cell_type": "code",
   "execution_count": null,
   "id": "4ee42a77",
   "metadata": {},
   "outputs": [],
   "source": [
    "class ValidarNome(Manipulador):\n",
    "    def manipular(self, receptor):\n",
    "        if not receptor.nome or not receptor.nome.strip() or not receptor.nome.replace(\" \", \"\").lower().isalpha():\n",
    "            return f\"Erro: Nome inválido para o receptor {receptor.nome}.\"\n",
    "        if self._proximo_manipulador:\n",
    "            return self._proximo_manipulador.manipular(receptor)\n",
    "        return \"Validação concluída com sucesso.\""
   ]
  },
  {
   "cell_type": "markdown",
   "id": "565a685d",
   "metadata": {},
   "source": [
    "#### **Validação da Idade**"
   ]
  },
  {
   "cell_type": "code",
   "execution_count": null,
   "id": "e58841ff",
   "metadata": {},
   "outputs": [],
   "source": [
    "class ValidarIdade(Manipulador):\n",
    "    def manipular(self, receptor):\n",
    "        if receptor.idade < 18 or receptor.idade > 120:\n",
    "            return f\"Erro: Idade inválida ({receptor.idade}) para o receptor {receptor.nome}.\"\n",
    "        if self._proximo_manipulador:\n",
    "            return self._proximo_manipulador.manipular(receptor)\n",
    "        return \"Validação concluída com sucesso.\""
   ]
  },
  {
   "cell_type": "markdown",
   "id": "fb8420c5",
   "metadata": {},
   "source": [
    "#### **Validação do Órgão Necessário**"
   ]
  },
  {
   "cell_type": "code",
   "execution_count": null,
   "id": "a7c6616b",
   "metadata": {},
   "outputs": [],
   "source": [
    "class ValidarOrgao(Manipulador):\n",
    "    def manipular(self, receptor):\n",
    "        orgaos_validos = [\"coracao\", \"pulmao\", \"rins\", \"figado\"]\n",
    "        if receptor.orgao_necessario not in orgaos_validos:\n",
    "            return f\"Erro: Órgão necessário inválido ({receptor.orgao_necessario}) para o receptor {receptor.nome}.\"\n",
    "        if self._proximo_manipulador:\n",
    "            return self._proximo_manipulador.manipular(receptor)\n",
    "        return \"Validação concluída com sucesso.\""
   ]
  },
  {
   "cell_type": "markdown",
   "id": "10ffd06f",
   "metadata": {},
   "source": [
    "### **3. Configuração da Cadeia**\n",
    "\n",
    "A cadeia de responsabilidade é configurada conectando os manipuladores."
   ]
  },
  {
   "cell_type": "code",
   "execution_count": null,
   "id": "a26ab785",
   "metadata": {},
   "outputs": [],
   "source": [
    "# Configurando a cadeia de validação\n",
    "validador_nome  = ValidarNome()\n",
    "validador_idade = ValidarIdade()\n",
    "validador_orgao = ValidarOrgao()\n",
    "\n",
    "validador_nome.definir_proximo(validador_idade)\n",
    "validador_idade.definir_proximo(validador_orgao)"
   ]
  },
  {
   "cell_type": "markdown",
   "id": "6132f518",
   "metadata": {},
   "source": [
    "### **4. Exemplo de Uso**"
   ]
  },
  {
   "cell_type": "code",
   "execution_count": null,
   "id": "a0f1330c",
   "metadata": {},
   "outputs": [],
   "source": [
    "from model.receptor import Receptor"
   ]
  },
  {
   "cell_type": "code",
   "execution_count": null,
   "id": "4d7d2f97",
   "metadata": {},
   "outputs": [],
   "source": [
    "receptor1 = Receptor.cadastrar(\n",
    "    nome=\"Ethan Hunt\",\n",
    "    idade=35,\n",
    "    sexo=\"F\",\n",
    "    data_nascimento=\"23/01/1958\",\n",
    "    cidade_natal=\"Pinto\",\n",
    "    estado_natal=\"RR\",\n",
    "    cpf=\"84326709103\",\n",
    "    profissao=\"Enfermeiro\",\n",
    "    cidade_residencia=\"Aparecida\",\n",
    "    estado_residencia=\"RJ\",\n",
    "    estado_civil=\"Solteiro\",\n",
    "    contato_emergencia=\"8151029918\",\n",
    "    tipo_sanguineo=\"O+\",\n",
    "    orgao_necessario=\"coracao\",\n",
    "    gravidade_condicao=\"Alta\",\n",
    "    centro_transplante_vinculado=\"Brasilia\",\n",
    "    posicao_lista_espera=10\n",
    ")\n",
    "\n",
    "print(validador_nome.manipular(receptor1))"
   ]
  },
  {
   "cell_type": "code",
   "execution_count": null,
   "id": "8210ea5f",
   "metadata": {},
   "outputs": [],
   "source": [
    "receptor2 = Receptor.cadastrar(\n",
    "    nome=\"Lar@ Croft\",\n",
    "    idade=28,\n",
    "    sexo=\"F\",\n",
    "    data_nascimento=\"23/01/1958\",\n",
    "    cidade_natal=\"Pinto\",\n",
    "    estado_natal=\"RR\",\n",
    "    cpf=\"84326709103\",\n",
    "    profissao=\"Enfermeiro\",\n",
    "    cidade_residencia=\"Aparecida\",\n",
    "    estado_residencia=\"RJ\",\n",
    "    estado_civil=\"Solteiro\",\n",
    "    contato_emergencia=\"8151029918\",\n",
    "    tipo_sanguineo=\"O+\",\n",
    "    orgao_necessario=\"coracao\",\n",
    "    gravidade_condicao=\"Alta\",\n",
    "    centro_transplante_vinculado=\"Brasilia\",\n",
    "    posicao_lista_espera=10\n",
    ")\n",
    "\n",
    "print(validador_nome.manipular(receptor2))"
   ]
  },
  {
   "cell_type": "code",
   "execution_count": null,
   "id": "a8384bbb",
   "metadata": {},
   "outputs": [],
   "source": [
    "receptor3 = Receptor.cadastrar(\n",
    "    nome=\"Peter Parker\",\n",
    "    idade=17,\n",
    "    sexo=\"F\",\n",
    "    data_nascimento=\"23/01/1958\",\n",
    "    cidade_natal=\"Pinto\",\n",
    "    estado_natal=\"RR\",\n",
    "    cpf=\"84326709103\",\n",
    "    profissao=\"Enfermeiro\",\n",
    "    cidade_residencia=\"Aparecida\",\n",
    "    estado_residencia=\"RJ\",\n",
    "    estado_civil=\"Solteiro\",\n",
    "    contato_emergencia=\"8151029918\",\n",
    "    tipo_sanguineo=\"O+\",\n",
    "    orgao_necessario=\"coracao\",\n",
    "    gravidade_condicao=\"Alta\",\n",
    "    centro_transplante_vinculado=\"Brasilia\",\n",
    "    posicao_lista_espera=10\n",
    ")\n",
    "\n",
    "print(validador_nome.manipular(receptor3)) "
   ]
  },
  {
   "cell_type": "code",
   "execution_count": null,
   "id": "c908ca1d",
   "metadata": {},
   "outputs": [],
   "source": [
    "receptor4 = Receptor.cadastrar(\n",
    "    nome=\"Mary Jane\",\n",
    "    idade=25,\n",
    "    sexo=\"F\",\n",
    "    data_nascimento=\"23/01/1958\",\n",
    "    cidade_natal=\"Pinto\",\n",
    "    estado_natal=\"RR\",\n",
    "    cpf=\"84326709103\",\n",
    "    profissao=\"Enfermeiro\",\n",
    "    cidade_residencia=\"Aparecida\",\n",
    "    estado_residencia=\"RJ\",\n",
    "    estado_civil=\"Solteiro\",\n",
    "    contato_emergencia=\"8151029918\",\n",
    "    tipo_sanguineo=\"O+\",\n",
    "    orgao_necessario=\"estomago\",\n",
    "    gravidade_condicao=\"Alta\",\n",
    "    centro_transplante_vinculado=\"Brasilia\",\n",
    "    posicao_lista_espera=10\n",
    ")\n",
    "\n",
    "print(validador_nome.manipular(receptor4))  # Erro: Órgão necessário inválido"
   ]
  },
  {
   "cell_type": "markdown",
   "id": "1851146b",
   "metadata": {},
   "source": [
    "\n",
    "---\n",
    "\n",
    "## **Vantagens do Padrão Chain of Responsibility**\n",
    "\n",
    "1. **Flexibilidade**: Permite adicionar ou remover etapas de validação sem alterar o código existente.\n",
    "2. **Desacoplamento**: Cada etapa de validação é encapsulada em uma classe separada.\n",
    "3. **Reutilização**: Os manipuladores podem ser reutilizados em diferentes cadeias.\n",
    "\n",
    "---\n",
    "\n",
    "Com essa implementação, o padrão **Chain of Responsibility** organiza o processo de validação de forma modular e escalável, atendendo aos requisitos do projeto."
   ]
  },
  {
   "cell_type": "code",
   "execution_count": null,
   "id": "f5f18bab",
   "metadata": {},
   "outputs": [],
   "source": [
    "from faker_data_receptores import generate_receptores_short"
   ]
  },
  {
   "cell_type": "code",
   "execution_count": null,
   "id": "e983565b",
   "metadata": {},
   "outputs": [],
   "source": [
    "from model.receptor import Receptor"
   ]
  },
  {
   "cell_type": "code",
   "execution_count": null,
   "id": "aaa04228",
   "metadata": {},
   "outputs": [],
   "source": [
    "for _ in range(10):\n",
    "    receptor = generate_receptores_short()\n",
    "    novo_receptor = Receptor.cadastrar(\n",
    "        nome=receptor[\"dados\"][\"nome\"],\n",
    "        idade=receptor[\"dados\"][\"idade\"],\n",
    "        tipo_sanguineo=receptor[\"dados\"][\"tipo_sanguineo\"],\n",
    "        orgao_necessario=str(receptor[\"necessidade\"][\"orgao_necessario\"]).lower(),\n",
    "        gravidade_condicao=receptor[\"necessidade\"][\"gravidade_condicao\"],\n",
    "        centro_transplante_vinculado=receptor[\"necessidade\"][\"centro_transplante\"],\n",
    "        posicao_lista_espera=receptor[\"necessidade\"][\"posicao_lista_espera\"]\n",
    "    )\n",
    "\n",
    "    if novo_receptor:\n",
    "        novo_receptor.definir_gravidade()\n",
    "\n",
    "        # Abre o arquivo em modo append (adiciona ao final)\n",
    "        with open(\"saida.txt\", \"w\") as arquivo:\n",
    "            print(novo_receptor, file=arquivo)\n",
    "    "
   ]
  },
  {
   "cell_type": "code",
   "execution_count": null,
   "id": "64d13989",
   "metadata": {},
   "outputs": [],
   "source": [
    "Receptor.listar()"
   ]
  }
 ],
 "metadata": {
  "kernelspec": {
   "display_name": "Python 3",
   "language": "python",
   "name": "python3"
  },
  "language_info": {
   "codemirror_mode": {
    "name": "ipython",
    "version": 3
   },
   "file_extension": ".py",
   "mimetype": "text/x-python",
   "name": "python",
   "nbconvert_exporter": "python",
   "pygments_lexer": "ipython3",
   "version": "3.13.2"
  }
 },
 "nbformat": 4,
 "nbformat_minor": 5
}
