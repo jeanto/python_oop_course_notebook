{
 "cells": [
  {
   "cell_type": "markdown",
   "metadata": {},
   "source": [
    "# Programação Orientada a Objetos (POO) em Python \n",
    "\n",
    "[Aprenda Python com Jupyter](https://github.com/jeanto/python_programming_course_notebook) by [Jean Nunes](https://jeanto.github.io/jeannunes)   \n",
    "Code license: [GNU-GPL v3](https://www.gnu.org/licenses/gpl-3.0.en.html)\n",
    "\n",
    "---"
   ]
  },
  {
   "cell_type": "code",
   "execution_count": null,
   "metadata": {},
   "outputs": [],
   "source": [
    "class Pessoa:\n",
    "    def __init__(self, nome, sobrenome, idade):\n",
    "        self.nome = nome\n",
    "        self.sobrenome = sobrenome\n",
    "        self.idade = idade\n",
    "\n",
    "    def apresentar(self):\n",
    "        return f\"Olá, meu nome é {self.nome} {self.sobrenome} e eu tenho {self.idade} anos.\""
   ]
  },
  {
   "cell_type": "markdown",
   "metadata": {},
   "source": [
    "## Atributos e Métodos\n",
    "\n",
    "1. **Atributos**: São as características de um objeto. No exemplo acima, `nome`, `sobrenome` e `idade` são atributos.\n",
    "2. **Métodos**: São as ações ou comportamentos de um objeto. O método `apresentar` é um exemplo.\n",
    "\n",
    "---\n",
    "\n",
    "### Encapsulamento\n",
    "\n",
    "`Encapsulamento de Acesso Público`: Por padrão, todos os membros de uma classe são públicos, o que significa que eles podem ser acessados e modificados diretamente dentro e fora da classe. Não existe proteção explícita do interpretador para esses membros, a menos que o nome comece com um sublinhado único (_), o que é uma convenção para indicar que o membro deve ser tratado como protegido (uso interno da classe).\n",
    "\n",
    "`Encapsulamento de Acesso Privado`: Para indicar que um membro da classe é privado e não deve ser acessado diretamente fora da classe, o nome do membro começa com dois sublinhados (__). Essa convenção ativa um mecanismo de nomeação conhecido como name mangling, onde o nome do atributo é alterado para dificultar o acesso direto fora da classe.\n",
    "\n",
    "Os atributos podem ser:\n",
    "- **Públicos**: Acessíveis diretamente (ex.: `self.nome`).\n",
    "- **Protegido**: Usando `_` antes do nome (ex.: `self._idade`).\n",
    "- **Privados**: Usando `__` antes do nome (ex.: `self.__idade`).\n",
    "\n",
    "\n",
    "Exemplo com atributo privado:\n",
    "\n",
    "- Por exemplo, vamos considerar que temos uma classe Pessoa que possui idade como uma variável de instância. Queremos que a idade não seja acessada diretamente (por exemplo, alterada) após a criação da instância. Em Python, isso seria:"
   ]
  },
  {
   "cell_type": "code",
   "execution_count": null,
   "metadata": {},
   "outputs": [],
   "source": [
    "class Pessoa:\n",
    "    def __init__(self, nome, sobrenome):\n",
    "        self.nome = nome\n",
    "        self.sobrenome = sobrenome\n",
    "        self.__idade = 0\n",
    "\n",
    "    def apresentar(self):\n",
    "        return f\"Olá, meu nome é {self.nome} {self.sobrenome} e eu tenho {self.__idade} anos.\""
   ]
  },
  {
   "cell_type": "code",
   "execution_count": null,
   "metadata": {},
   "outputs": [],
   "source": [
    "# Criando instâncias da classe Pessoa\n",
    "pessoa1 = Pessoa(\"Darth\", \"Vader\")"
   ]
  },
  {
   "cell_type": "code",
   "execution_count": null,
   "metadata": {},
   "outputs": [],
   "source": [
    "print(pessoa1.__idade)"
   ]
  },
  {
   "cell_type": "code",
   "execution_count": null,
   "metadata": {},
   "outputs": [],
   "source": [
    "pessoa1.__idade = 16"
   ]
  },
  {
   "cell_type": "code",
   "execution_count": null,
   "metadata": {},
   "outputs": [],
   "source": [
    "print(pessoa1.apresentar())"
   ]
  },
  {
   "cell_type": "code",
   "execution_count": null,
   "metadata": {},
   "outputs": [],
   "source": [
    "class Pessoa:\n",
    "    def __init__(self, nome, sobrenome):\n",
    "        self.nome = nome\n",
    "        self.sobrenome = sobrenome\n",
    "        self.__idade = 0\n",
    "\n",
    "    def apresentar(self):\n",
    "        return f\"Olá, meu nome é {self.nome} {self.sobrenome} e eu tenho {self.__idade} anos.\"\n",
    "    \n",
    "    def set_idade(self, idade):\n",
    "        self.__idade = idade"
   ]
  },
  {
   "cell_type": "code",
   "execution_count": null,
   "metadata": {},
   "outputs": [],
   "source": [
    "# Criando instâncias da classe Pessoa\n",
    "pessoa1 = Pessoa(\"Darth\", \"Vader\")\n",
    "\n",
    "pessoa1.set_idade(42)\n",
    "print(pessoa1.apresentar())"
   ]
  },
  {
   "cell_type": "markdown",
   "metadata": {},
   "source": [
    "## @Property"
   ]
  },
  {
   "cell_type": "markdown",
   "metadata": {},
   "source": [
    "O `@property` é um **decorador** em Python que permite transformar métodos de uma classe em **propriedades**. Ele é usado para criar **getters** (acessores) de atributos de forma mais elegante e Pythonic, sem a necessidade de chamar explicitamente o método como uma função.\n",
    "\n",
    "Com o `@property`, você pode acessar métodos como se fossem atributos, tornando o código mais limpo e intuitivo.\n",
    "\n",
    "---\n",
    "\n",
    "### Como funciona?\n",
    "\n",
    "1. **Getter**: O `@property` transforma um método em uma propriedade que pode ser acessada como um atributo.\n",
    "2. **Setter**: Usando o decorador `@nome_do_metodo.setter`, você pode definir um método para modificar o valor da propriedade.\n",
    "3. **Deleter**: Usando o decorador `@nome_do_metodo.deleter`, você pode definir um método para deletar a propriedade.\n",
    "\n",
    "---\n",
    "\n",
    "### Exemplo Básico\n"
   ]
  },
  {
   "cell_type": "markdown",
   "metadata": {},
   "source": [
    "#### Sem o `@property`:"
   ]
  },
  {
   "cell_type": "code",
   "execution_count": null,
   "metadata": {},
   "outputs": [],
   "source": [
    "class Pessoa:\n",
    "    def __init__(self, nome, sobrenome, idade):\n",
    "        self._nome = nome\n",
    "        self._sobrenome = sobrenome\n",
    "        self._idade = idade\n",
    "\n",
    "    def __str__(self):\n",
    "        return f\"Olá, eu sou o/a {self._nome} {self._sobrenome}.\"\n",
    "    \n",
    "    def get_idade(self):\n",
    "        return self._idade\n",
    "\n",
    "    def set_idade(self, idade):\n",
    "        self._idade = idade"
   ]
  },
  {
   "cell_type": "code",
   "execution_count": null,
   "metadata": {},
   "outputs": [],
   "source": [
    "# Criando instâncias da classe Pessoa\n",
    "pessoa1 = Pessoa(\"Darth\", \"Vader\", 16)\n",
    "print(pessoa1)\n",
    "print(f\"Minha idade é: {pessoa1.get_idade()}\")"
   ]
  },
  {
   "cell_type": "code",
   "execution_count": null,
   "metadata": {},
   "outputs": [],
   "source": [
    "pessoa1.set_idade(42)\n",
    "print(pessoa1)\n",
    "print(f\"Minha idade é: {pessoa1.get_idade()}\")"
   ]
  },
  {
   "cell_type": "markdown",
   "metadata": {},
   "source": [
    "#### Com o `@property`:"
   ]
  },
  {
   "cell_type": "code",
   "execution_count": null,
   "metadata": {},
   "outputs": [],
   "source": [
    "class Pessoa:\n",
    "    def __init__(self, nome, sobrenome, idade):\n",
    "        self._nome = nome\n",
    "        self._sobrenome = sobrenome\n",
    "        self._idade = idade\n",
    "\n",
    "    def __str__(self):\n",
    "        return f\"Olá, eu sou o/a {self._nome} {self._sobrenome}.\"\n",
    "\n",
    "    @property\n",
    "    def idade(self):  # Getter\n",
    "        return self._idade\n",
    "\n",
    "    @idade.setter\n",
    "    def idade(self, idade):  # Setter\n",
    "        self._idade = idade"
   ]
  },
  {
   "cell_type": "code",
   "execution_count": null,
   "metadata": {},
   "outputs": [],
   "source": [
    "# Criando instância da classe Pessoa\n",
    "pessoa1 = Pessoa(\"Darth\", \"Vader\", 16)\n",
    "print(pessoa1)\n",
    "print(f\"Minha idade é: {pessoa1.idade}\")"
   ]
  },
  {
   "cell_type": "code",
   "execution_count": null,
   "metadata": {},
   "outputs": [],
   "source": [
    "pessoa1.idade = 42\n",
    "print(pessoa1)\n",
    "print(f\"Minha idade é: {pessoa1.idade}\")"
   ]
  },
  {
   "cell_type": "markdown",
   "metadata": {},
   "source": [
    "---\n",
    "\n",
    "### Vantagens do `@property`\n",
    "\n",
    "1. **Encapsulamento**: Permite controlar o acesso e a modificação de atributos privados.\n",
    "2. **Interface limpa**: O acesso aos métodos é feito como se fossem atributos, tornando o código mais legível.\n",
    "3. **Validação de dados**: Você pode adicionar lógica no getter ou setter para validar ou processar os dados.\n",
    "\n",
    "---\n",
    "\n",
    "### Exemplo com Validação"
   ]
  },
  {
   "cell_type": "code",
   "execution_count": null,
   "metadata": {},
   "outputs": [],
   "source": [
    "class Pessoa:\n",
    "    def __init__(self, nome, sobrenome, idade):\n",
    "        self._nome = nome\n",
    "        self._sobrenome = sobrenome\n",
    "        self._idade = idade\n",
    "\n",
    "    def __str__(self):\n",
    "        return f\"Olá, eu sou o/a {self._nome} {self._sobrenome}.\"\n",
    "\n",
    "    @property\n",
    "    def idade(self):  # Getter\n",
    "        return self._idade\n",
    "\n",
    "    @idade.setter\n",
    "    def idade(self, idade):  # Setter\n",
    "        if idade < 0:\n",
    "            raise ValueError(\"Idade não pode ser negativa!\")\n",
    "        self._idade = idade\n"
   ]
  },
  {
   "cell_type": "code",
   "execution_count": null,
   "metadata": {},
   "outputs": [],
   "source": [
    "# Criando instância da classe Pessoa\n",
    "pessoa1 = Pessoa(\"Darth\", \"Vader\", 16)\n",
    "print(pessoa1)\n",
    "print(f\"Minha idade é: {pessoa1.idade}\")"
   ]
  },
  {
   "cell_type": "code",
   "execution_count": null,
   "metadata": {},
   "outputs": [],
   "source": [
    "pessoa1.idade = -42\n",
    "print(pessoa1)\n",
    "print(f\"Minha idade é: {pessoa1.idade}\")"
   ]
  },
  {
   "cell_type": "markdown",
   "metadata": {},
   "source": [
    "\n",
    "---\n",
    "\n",
    "### Exemplo com Deleter"
   ]
  },
  {
   "cell_type": "code",
   "execution_count": null,
   "metadata": {},
   "outputs": [],
   "source": [
    "class Pessoa:\n",
    "    def __init__(self, nome, sobrenome, idade=0):\n",
    "        self._nome = nome\n",
    "        self._sobrenome = sobrenome\n",
    "        self._idade = idade\n",
    "\n",
    "    def __str__(self):\n",
    "        return f\"Olá, eu sou o/a {self._nome} {self._sobrenome}.\"\n",
    "\n",
    "    @property\n",
    "    def idade(self):  # Getter\n",
    "        return self._idade\n",
    "\n",
    "    @idade.setter\n",
    "    def idade(self, idade):  # Setter\n",
    "        if idade < 0:\n",
    "            raise ValueError(\"Idade não pode ser negativa!\")\n",
    "        self._idade = idade\n",
    "\n",
    "    @idade.deleter\n",
    "    def idade(self):  # Deleter\n",
    "        print(\"Deletando a idade...\")\n",
    "        del self._idade"
   ]
  },
  {
   "cell_type": "code",
   "execution_count": null,
   "metadata": {},
   "outputs": [],
   "source": [
    "# Criando instância da classe Pessoa\n",
    "pessoa1 = Pessoa(\"Darth\", \"Vader\", 16)\n",
    "print(pessoa1)\n",
    "print(f\"Minha idade é: {pessoa1.idade}\")"
   ]
  },
  {
   "cell_type": "code",
   "execution_count": null,
   "metadata": {},
   "outputs": [],
   "source": [
    "del pessoa1.idade\n",
    "print(pessoa1)\n",
    "try:\n",
    "    print(f\"Minha idade é: {pessoa1.idade}\")\n",
    "except AttributeError:\n",
    "    print(\"Idade não está definida!\")"
   ]
  },
  {
   "cell_type": "code",
   "execution_count": null,
   "metadata": {},
   "outputs": [],
   "source": [
    "pessoa1 = Pessoa(\"Darth\", \"Vader\")\n",
    "pessoa1.idade = 16\n",
    "print(pessoa1)\n",
    "print(f\"Minha idade é: {pessoa1.idade}\")\n"
   ]
  },
  {
   "cell_type": "markdown",
   "metadata": {},
   "source": [
    "---\n",
    "\n",
    "O `@property` é uma ferramenta poderosa para criar propriedades em Python, permitindo encapsular e controlar o acesso a atributos de forma elegante. Ele é amplamente utilizado em projetos Python para melhorar a legibilidade e a manutenção do código."
   ]
  }
 ],
 "metadata": {
  "kernelspec": {
   "display_name": "Python 3",
   "language": "python",
   "name": "python3"
  },
  "language_info": {
   "codemirror_mode": {
    "name": "ipython",
    "version": 3
   },
   "file_extension": ".py",
   "mimetype": "text/x-python",
   "name": "python",
   "nbconvert_exporter": "python",
   "pygments_lexer": "ipython3",
   "version": "3.13.2"
  }
 },
 "nbformat": 4,
 "nbformat_minor": 2
}
