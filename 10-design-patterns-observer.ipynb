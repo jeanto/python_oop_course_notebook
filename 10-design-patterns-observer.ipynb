{
 "cells": [
  {
   "cell_type": "markdown",
   "id": "7ae68796",
   "metadata": {},
   "source": [
    "# Programação Orientada a Objetos (POO) em Python \n",
    "\n",
    "[Aprenda Python com Jupyter](https://github.com/jeanto/python_programming_course_notebook) by [Jean Nunes](https://jeanto.github.io/jeannunes)   \n",
    "Code license: [GNU-GPL v3](https://www.gnu.org/licenses/gpl-3.0.en.html)\n",
    "\n",
    "---"
   ]
  },
  {
   "cell_type": "markdown",
   "id": "52d66757",
   "metadata": {},
   "source": [
    "## **Padrões de Projeto na POO**"
   ]
  },
  {
   "cell_type": "markdown",
   "id": "1851146b",
   "metadata": {},
   "source": [
    "### **1. Padrões Comportamentais: Observer**\n",
    "\n",
    "O **padrão de projeto Observer** é um padrão **comportamental** que define uma dependência **um-para-muitos** entre objetos. Quando o estado de um objeto (o **sujeito**) muda, todos os objetos dependentes (os **observadores**) são notificados automaticamente. Esse padrão é útil para implementar sistemas de eventos ou notificações.\n",
    "\n",
    "---\n",
    "\n",
    "### **Características do Padrão Observer**\n",
    "1. **Sujeito (Subject)**:\n",
    "   - É o objeto que mantém uma lista de observadores e notifica-os sobre mudanças de estado.\n",
    "2. **Observadores (Observers)**:\n",
    "   - São objetos que \"se inscrevem\" no sujeito para serem notificados quando algo mudar.\n",
    "3. **Desacoplamento**:\n",
    "   - O sujeito e os observadores são fracamente acoplados, permitindo maior flexibilidade e extensibilidade.\n",
    "\n",
    "---\n",
    "\n",
    "Podemos usar o padrão **Observer** para alterar a posição na fila do receptor. O padrão pode ser aplicado para notificar os receptores quando um novo doador registra uma intenção de doar. Com base na compatibilidade sanguínea e na gravidade da condição, a posição do receptor na fila pode ser ajustada automaticamente.\n",
    "\n",
    "---\n",
    "\n",
    "### **Como Implementar o Observer para Alterar a Posição na Fila**\n",
    "\n",
    "#### **1. Sujeito (Subject): Classe `Doador`**\n",
    "A classe `Doador` será o sujeito que notifica os receptores quando uma nova intenção de doação é registrada.\n",
    "\n",
    "#### **2. Observadores (Observers): Classe `Receptor`**\n",
    "A classe `Receptor` será o observador que reage às notificações do doador. Quando notificado, o receptor verifica se é compatível com o doador e, se for, ajusta sua posição na fila com base na gravidade da condição.\n",
    "\n",
    "---\n"
   ]
  },
  {
   "cell_type": "code",
   "execution_count": null,
   "id": "62876fca",
   "metadata": {},
   "outputs": [],
   "source": [
    "from model.doador import Doador\n",
    "from model.receptor import Receptor\n",
    "from model.intencao_doar import IntencaoDeDoar"
   ]
  },
  {
   "cell_type": "markdown",
   "id": "c7e5b02f",
   "metadata": {},
   "source": [
    "#### Cadastrando doador\n"
   ]
  },
  {
   "cell_type": "code",
   "execution_count": null,
   "id": "f5b41728",
   "metadata": {},
   "outputs": [],
   "source": [
    "novo_doador = Doador.cadastrar(\n",
    "    nome=\"James Bond\",\n",
    "    idade=40,\n",
    "    tipo_sanguineo=\"O+\"\n",
    ")\n",
    "print(\"Cadastro realizado com sucesso!\")"
   ]
  },
  {
   "cell_type": "markdown",
   "id": "a946a301",
   "metadata": {},
   "source": [
    "#### Cadastrando Receptor\n"
   ]
  },
  {
   "cell_type": "code",
   "execution_count": null,
   "id": "d26270ff",
   "metadata": {},
   "outputs": [],
   "source": [
    "receptores = []"
   ]
  },
  {
   "cell_type": "code",
   "execution_count": null,
   "id": "b8929b68",
   "metadata": {},
   "outputs": [],
   "source": [
    "receptor1 = Receptor.cadastrar(\n",
    "    nome=\"Ethan Hunt\",\n",
    "    idade=35,\n",
    "    tipo_sanguineo=\"A+\",\n",
    "    orgao_necessario=\"coracao\",\n",
    "    gravidade_condicao=\"Alta\",\n",
    "    centro_transplante_vinculado=\"Brasilia\",\n",
    "    posicao_lista_espera=10\n",
    ")\n",
    "\n",
    "receptor1.definir_gravidade()\n",
    "receptores.append(receptor1)"
   ]
  },
  {
   "cell_type": "code",
   "execution_count": null,
   "id": "e6af512a",
   "metadata": {},
   "outputs": [],
   "source": [
    "receptor2 = Receptor.cadastrar(\n",
    "    nome=\"Lara Croft\",\n",
    "    idade=28,\n",
    "    tipo_sanguineo=\"B+\",\n",
    "    orgao_necessario=\"rins\",\n",
    "    gravidade_condicao=\"Média\",\n",
    "    centro_transplante_vinculado=\"São Paulo\",\n",
    "    posicao_lista_espera=5\n",
    ")\n",
    "\n",
    "receptor2.definir_gravidade()\n",
    "receptores.append(receptor2)"
   ]
  },
  {
   "cell_type": "markdown",
   "id": "4c82d0de",
   "metadata": {},
   "source": [
    "#### Gravidade **alta**"
   ]
  },
  {
   "cell_type": "code",
   "execution_count": null,
   "id": "04f0bfd2",
   "metadata": {},
   "outputs": [],
   "source": [
    "receptor3 = Receptor.cadastrar(\n",
    "    nome=\"John Rambo\",\n",
    "    idade=65,\n",
    "    tipo_sanguineo=\"AB+\",\n",
    "    orgao_necessario=\"pulmao\",\n",
    "    gravidade_condicao=\"Baixa\",\n",
    "    centro_transplante_vinculado=\"Rio de Janeiro\",\n",
    "    posicao_lista_espera=13\n",
    ")\n",
    "\n",
    "receptor3.definir_gravidade()\n",
    "receptores.append(receptor3)"
   ]
  },
  {
   "cell_type": "code",
   "execution_count": null,
   "id": "64d13989",
   "metadata": {},
   "outputs": [],
   "source": [
    "Receptor.listar()"
   ]
  },
  {
   "cell_type": "markdown",
   "id": "a4902fa5",
   "metadata": {},
   "source": [
    "#### Adicionando receptores como observadores\n"
   ]
  },
  {
   "cell_type": "code",
   "execution_count": null,
   "id": "50a1b515",
   "metadata": {},
   "outputs": [],
   "source": [
    "from datetime import datetime\n",
    "\n",
    "while True:\n",
    "    status_intencao = input(\"O doador deseja registrar a intenção de doar? (s/n): \").lower()\n",
    "    if status_intencao in ['s', 'n']:\n",
    "        data_atual = datetime.now()\n",
    "\n",
    "        intencao_doar = IntencaoDeDoar.registrar_intencao_doar(\n",
    "            doador=novo_doador,\n",
    "            data_intencao=data_atual,\n",
    "            status=status_intencao,\n",
    "            orgaos=[\"coracao\", \"rins\", \"pulmao\"],\n",
    "            observadores=[receptor for receptor in receptores]  # Itera sobre a lista de receptores\n",
    "        )\n",
    "        \n",
    "        ### Usa o método __add__ para sobrecarregar o operador +\n",
    "        novo_doador = novo_doador + intencao_doar\n",
    "\n",
    "        # Se o status da intenção for positivo (True), notifica todos os observadores associados ao doador\n",
    "        if intencao_doar.status:\n",
    "            intencao_doar.notificar_observadores(intencao_doar)\n",
    "\n",
    "        print(f\"Intenção de doar registrada com sucesso!\")\n",
    "        break\n",
    "\n",
    "    else:\n",
    "        print(\"Por favor, responda com 's' (sim) ou 'n' (não).\")\n",
    "\n",
    "### Lista doadores.\n",
    "Doador.listar()"
   ]
  },
  {
   "cell_type": "code",
   "execution_count": null,
   "id": "6f89d5b9",
   "metadata": {},
   "outputs": [],
   "source": [
    "Receptor.listar()"
   ]
  }
 ],
 "metadata": {
  "kernelspec": {
   "display_name": ".venv",
   "language": "python",
   "name": "python3"
  },
  "language_info": {
   "codemirror_mode": {
    "name": "ipython",
    "version": 3
   },
   "file_extension": ".py",
   "mimetype": "text/x-python",
   "name": "python",
   "nbconvert_exporter": "python",
   "pygments_lexer": "ipython3",
   "version": "3.12.3"
  }
 },
 "nbformat": 4,
 "nbformat_minor": 5
}
